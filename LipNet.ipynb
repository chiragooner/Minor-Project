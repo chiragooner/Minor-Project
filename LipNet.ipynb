{
 "cells": [
  {
   "cell_type": "markdown",
   "id": "a3573a47-3689-4668-b62f-5c8451b2b4e9",
   "metadata": {
    "id": "a3573a47-3689-4668-b62f-5c8451b2b4e9",
    "tags": []
   },
   "source": [
    "# 0. Install and Import Dependencies"
   ]
  },
  {
   "cell_type": "code",
   "execution_count": null,
   "id": "b24af50c-20b8-409d-ad78-30a933fdd669",
   "metadata": {
    "id": "b24af50c-20b8-409d-ad78-30a933fdd669",
    "tags": []
   },
   "outputs": [],
   "source": [
    "import os\n",
    "import cv2\n",
    "import tensorflow as tf\n",
    "import numpy as np\n",
    "from typing import List\n",
    "from matplotlib import pyplot as plt\n",
    "import imageio"
   ]
  },
  {
   "cell_type": "code",
   "execution_count": null,
   "id": "1e3db0b0-e559-4ad6-91fd-e7414b7d75e6",
   "metadata": {
    "colab": {
     "base_uri": "https://localhost:8080/"
    },
    "id": "1e3db0b0-e559-4ad6-91fd-e7414b7d75e6",
    "outputId": "b6457d8e-9f87-4ab7-ec4a-49b6dce1fba7"
   },
   "outputs": [],
   "source": [
    "tf.config.list_physical_devices('GPU') "
   ]
  },
  {
   "cell_type": "code",
   "execution_count": null,
   "id": "378d045a-3003-4f93-b7d2-a25a97774a68",
   "metadata": {
    "id": "378d045a-3003-4f93-b7d2-a25a97774a68",
    "tags": []
   },
   "outputs": [],
   "source": [
    "physical_devices = tf.config.list_physical_devices('GPU')\n",
    "try:\n",
    "    tf.config.experimental.set_memory_growth(physical_devices[0], True)\n",
    "except:\n",
    "    pass"
   ]
  },
  {
   "cell_type": "markdown",
   "id": "7a19e88e-c7b9-45c1-ae1e-f2109329c71b",
   "metadata": {
    "id": "7a19e88e-c7b9-45c1-ae1e-f2109329c71b",
    "tags": []
   },
   "source": [
    "# 1. Build Data Loading Functions"
   ]
  },
  {
   "cell_type": "code",
   "execution_count": null,
   "id": "8548cc59-6dfc-4acc-abc3-3e65212db02e",
   "metadata": {
    "id": "8548cc59-6dfc-4acc-abc3-3e65212db02e",
    "tags": []
   },
   "outputs": [],
   "source": [
    "def load_video(path:str) -> List[float]: \n",
    "\n",
    "    cap = cv2.VideoCapture(path)\n",
    "    frames = []\n",
    "    for _ in range(int(cap.get(cv2.CAP_PROP_FRAME_COUNT))): \n",
    "        ret, frame = cap.read()\n",
    "        frame = tf.image.rgb_to_grayscale(frame)\n",
    "        frames.append(frame[190:236,85:260,:])#For both\n",
    "        # frames.append(frame[190:236,80:220,:])\n",
    "    cap.release()\n",
    "    \n",
    "    mean = tf.math.reduce_mean(frames)\n",
    "    std = tf.math.reduce_std(tf.cast(frames, tf.float32))\n",
    "    return tf.cast((frames - mean), tf.float32) / std"
   ]
  },
  {
   "cell_type": "code",
   "execution_count": null,
   "id": "ec735e0b-ec98-4eb0-8f49-c35527d6670a",
   "metadata": {
    "id": "ec735e0b-ec98-4eb0-8f49-c35527d6670a",
    "tags": []
   },
   "outputs": [],
   "source": [
    "vocab = [x for x in \"abcdefghijklmnopqrstuvwxyz'?!123456789 \"]"
   ]
  },
  {
   "cell_type": "code",
   "execution_count": null,
   "id": "be04e972-d7a5-4a72-82d8-a6bdde1f3ce6",
   "metadata": {
    "colab": {
     "base_uri": "https://localhost:8080/"
    },
    "id": "be04e972-d7a5-4a72-82d8-a6bdde1f3ce6",
    "outputId": "816172b9-ae9e-48c4-d4eb-78735cb72f7b",
    "tags": []
   },
   "outputs": [],
   "source": [
    "char_to_num = tf.keras.layers.StringLookup(vocabulary=vocab, oov_token=\"\")\n",
    "num_to_char = tf.keras.layers.StringLookup(\n",
    "    vocabulary=char_to_num.get_vocabulary(), oov_token=\"\", invert=True\n",
    ")\n",
    "\n",
    "print(\n",
    "    f\"The vocabulary is: {char_to_num.get_vocabulary()} \"\n",
    "    f\"(size ={char_to_num.vocabulary_size()})\"\n",
    ")"
   ]
  },
  {
   "cell_type": "code",
   "execution_count": null,
   "id": "559f7420-6802-45fa-9ca0-b1ff209b461c",
   "metadata": {
    "colab": {
     "base_uri": "https://localhost:8080/"
    },
    "id": "559f7420-6802-45fa-9ca0-b1ff209b461c",
    "outputId": "9c6b9ea2-b4ed-4c19-ea3c-d16f0c7c023b",
    "tags": []
   },
   "outputs": [],
   "source": [
    "char_to_num.get_vocabulary()"
   ]
  },
  {
   "cell_type": "code",
   "execution_count": null,
   "id": "9491bab5-6a3c-4f79-879a-8f9fbe73ae2e",
   "metadata": {
    "id": "9491bab5-6a3c-4f79-879a-8f9fbe73ae2e",
    "tags": []
   },
   "outputs": [],
   "source": [
    "def load_alignments(path:str) -> List[str]: \n",
    "    with open(path, 'r') as f: \n",
    "        lines = f.readlines() \n",
    "    tokens = []\n",
    "    for line in lines:\n",
    "        line = line.split()\n",
    "        if line[2] != 'sil': \n",
    "            tokens = [*tokens,' ',line[2]]\n",
    "    return char_to_num(tf.reshape(tf.strings.unicode_split(tokens, input_encoding='UTF-8'), (-1)))[1:]"
   ]
  },
  {
   "cell_type": "code",
   "execution_count": null,
   "id": "dd01ca9f-77fb-4643-a2aa-47dd82c5d66b",
   "metadata": {
    "id": "dd01ca9f-77fb-4643-a2aa-47dd82c5d66b",
    "tags": []
   },
   "outputs": [],
   "source": [
    "def load_data(path: str):\n",
    "    path = bytes.decode(path.numpy())\n",
    "    # file_name = path.split('/')[-1].split('.')[0]\n",
    "    #File name splitting for windows\n",
    "    file_name = path.split('/')[-1].split('.')[0]\n",
    "    video_path = os.path.join('/home','mahimrawal','Lip_Reading','combine','s1',f'{file_name}.mpg') #/home/mahimrawal/Lip_Reading/data\n",
    "    alignment_path = os.path.join('/home','mahimrawal','Lip_Reading','combine','alignments','s1',f'{file_name}.align')\n",
    "    frames = load_video(video_path)\n",
    "    alignments = load_alignments(alignment_path)\n",
    "\n",
    "    return frames, alignments"
   ]
  },
  {
   "cell_type": "code",
   "execution_count": null,
   "id": "8cb7cc58-31ae-4904-a805-1177a82717d2",
   "metadata": {
    "id": "8cb7cc58-31ae-4904-a805-1177a82717d2",
    "tags": []
   },
   "outputs": [],
   "source": [
    "# test_path = 'content/data/alignments/s1/bbal6n.align'\n",
    "test_path = '/home/mahimrawal/Lip_Reading/combine/alignments/s1/bbal6n.align'"
   ]
  },
  {
   "cell_type": "code",
   "execution_count": null,
   "id": "76aa964f-0c84-490d-897a-d00e3966e2c9",
   "metadata": {
    "colab": {
     "base_uri": "https://localhost:8080/",
     "height": 35
    },
    "id": "76aa964f-0c84-490d-897a-d00e3966e2c9",
    "outputId": "2ed6a33d-39d2-4213-e4ab-ba09851b6b92"
   },
   "outputs": [],
   "source": [
    "tf.convert_to_tensor(test_path).numpy().decode('utf-8').split('/')[-1].split('.')[0]"
   ]
  },
  {
   "cell_type": "code",
   "execution_count": null,
   "id": "eb602c71-8560-4f9e-b26b-08202febb937",
   "metadata": {
    "id": "eb602c71-8560-4f9e-b26b-08202febb937",
    "scrolled": true,
    "tags": []
   },
   "outputs": [],
   "source": [
    "frames, alignments = load_data(tf.convert_to_tensor(test_path))\n"
   ]
  },
  {
   "cell_type": "code",
   "execution_count": null,
   "id": "0e3184a1-6b02-4b4f-84a8-a0a65f951ea2",
   "metadata": {
    "colab": {
     "base_uri": "https://localhost:8080/",
     "height": 244
    },
    "id": "0e3184a1-6b02-4b4f-84a8-a0a65f951ea2",
    "outputId": "2db88f34-42bb-4774-a9bf-e023dfa330cd"
   },
   "outputs": [],
   "source": [
    "plt.imshow(frames[70])"
   ]
  },
  {
   "cell_type": "code",
   "execution_count": null,
   "id": "fe1ad370-b287-4b46-85a2-7c45b0bd9b10",
   "metadata": {
    "colab": {
     "base_uri": "https://localhost:8080/"
    },
    "id": "fe1ad370-b287-4b46-85a2-7c45b0bd9b10",
    "outputId": "e07e4f32-cf55-4902-bb8e-f95a3f566f50"
   },
   "outputs": [],
   "source": [
    "tf.strings.reduce_join([bytes.decode(x) for x in num_to_char(alignments.numpy()).numpy()])"
   ]
  },
  {
   "cell_type": "code",
   "execution_count": null,
   "id": "6871031a-b0ba-4c76-a852-f6329b0f2606",
   "metadata": {
    "id": "6871031a-b0ba-4c76-a852-f6329b0f2606",
    "tags": []
   },
   "outputs": [],
   "source": [
    "def mappable_function(path:str) ->List[str]:\n",
    "    result = tf.py_function(load_data, [path], (tf.float32, tf.int64))\n",
    "    return result"
   ]
  },
  {
   "cell_type": "markdown",
   "id": "c40a7eb4-0c3e-4eab-9291-5611cb68ce08",
   "metadata": {
    "id": "c40a7eb4-0c3e-4eab-9291-5611cb68ce08",
    "tags": []
   },
   "source": [
    "# 2. Create Data Pipeline"
   ]
  },
  {
   "cell_type": "code",
   "execution_count": null,
   "id": "f066fea2-91b1-42ed-a67d-00566a1a53ff",
   "metadata": {
    "id": "f066fea2-91b1-42ed-a67d-00566a1a53ff",
    "tags": []
   },
   "outputs": [],
   "source": [
    "data = tf.data.Dataset.list_files('/home/mahimrawal/Lip_Reading/combine/s1/*.mpg')\n",
    "data = data.shuffle(900, reshuffle_each_iteration=False)\n",
    "data = data.map(mappable_function)\n",
    "data = data.padded_batch(2, padded_shapes=([75,None,None,None],[40]))\n",
    "data = data.prefetch(tf.data.AUTOTUNE)\n",
    "# Added for split\n",
    "train = data.take(900)\n",
    "test = data.skip(900)"
   ]
  },
  {
   "cell_type": "code",
   "execution_count": null,
   "id": "8daa909f",
   "metadata": {},
   "outputs": [],
   "source": [
    "len(train)"
   ]
  },
  {
   "cell_type": "code",
   "execution_count": null,
   "id": "0dd1b596",
   "metadata": {},
   "outputs": [],
   "source": [
    "len(test)"
   ]
  },
  {
   "cell_type": "code",
   "execution_count": null,
   "id": "5281bde8-fdc8-4da1-bd55-5a7929a9e80c",
   "metadata": {
    "id": "5281bde8-fdc8-4da1-bd55-5a7929a9e80c"
   },
   "outputs": [],
   "source": [
    "frames, alignments = data.as_numpy_iterator().next()"
   ]
  },
  {
   "cell_type": "code",
   "execution_count": null,
   "id": "cbebe683-6afd-47fd-bba4-c83b4b13bb32",
   "metadata": {
    "colab": {
     "base_uri": "https://localhost:8080/"
    },
    "id": "cbebe683-6afd-47fd-bba4-c83b4b13bb32",
    "outputId": "849590dd-8f5f-4ab7-8896-dc687f290c7e"
   },
   "outputs": [],
   "source": [
    "len(frames)"
   ]
  },
  {
   "cell_type": "code",
   "execution_count": null,
   "id": "5cf2d676-93a9-434c-b3c7-bdcc2577b2e7",
   "metadata": {
    "id": "5cf2d676-93a9-434c-b3c7-bdcc2577b2e7",
    "tags": []
   },
   "outputs": [],
   "source": [
    "sample = data.as_numpy_iterator()"
   ]
  },
  {
   "cell_type": "code",
   "execution_count": null,
   "id": "efa6cd46-7079-46c0-b45b-832f339f6cb0",
   "metadata": {
    "colab": {
     "base_uri": "https://localhost:8080/"
    },
    "id": "efa6cd46-7079-46c0-b45b-832f339f6cb0",
    "outputId": "eaca56dd-0a81-49be-c580-0f2e9ff35313",
    "scrolled": true,
    "tags": []
   },
   "outputs": [],
   "source": [
    "val = sample.next(); val[0]"
   ]
  },
  {
   "cell_type": "code",
   "execution_count": null,
   "id": "acf5eb4f-a0da-4a9a-bf24-af13e9cc2fbe",
   "metadata": {
    "colab": {
     "base_uri": "https://localhost:8080/"
    },
    "id": "acf5eb4f-a0da-4a9a-bf24-af13e9cc2fbe",
    "outputId": "a4615ba7-3d2f-4e49-8836-3a90b4871ecf",
    "tags": []
   },
   "outputs": [],
   "source": [
    "#imageio.mimsave('/content/animation1.mp4', val[0][0], fps=10)"
   ]
  },
  {
   "cell_type": "code",
   "execution_count": null,
   "id": "c33a87a2-d5e0-4ec9-b174-73ebf41bf03a",
   "metadata": {
    "colab": {
     "base_uri": "https://localhost:8080/",
     "height": 244
    },
    "id": "c33a87a2-d5e0-4ec9-b174-73ebf41bf03a",
    "outputId": "0898cfa4-d735-41a8-ad23-aec04a865051",
    "tags": []
   },
   "outputs": [],
   "source": [
    "# 0:videos, 0: 1st video out of the batch,  0: return the first frame in the video\n",
    "plt.imshow(val[0][1][74])"
   ]
  },
  {
   "cell_type": "code",
   "execution_count": null,
   "id": "84593332-133c-4205-b7a6-8e235d5e2b3b",
   "metadata": {
    "colab": {
     "base_uri": "https://localhost:8080/"
    },
    "id": "84593332-133c-4205-b7a6-8e235d5e2b3b",
    "outputId": "1539fef8-9872-4733-bad8-03c471c30af1",
    "tags": []
   },
   "outputs": [],
   "source": [
    "tf.strings.reduce_join([num_to_char(word) for word in val[1][0]])"
   ]
  },
  {
   "cell_type": "markdown",
   "id": "0f47733c-83bc-465c-b118-b198b492ad37",
   "metadata": {
    "id": "0f47733c-83bc-465c-b118-b198b492ad37",
    "tags": []
   },
   "source": [
    "# 3. Design the Deep Neural Network"
   ]
  },
  {
   "cell_type": "code",
   "execution_count": null,
   "id": "d8e9a497-191b-4842-afbd-26f5e13c43ba",
   "metadata": {
    "id": "d8e9a497-191b-4842-afbd-26f5e13c43ba",
    "tags": []
   },
   "outputs": [],
   "source": [
    "from tensorflow.keras.models import Sequential\n",
    "from tensorflow.keras.layers import Conv3D, LSTM, Dense, Dropout, Bidirectional, MaxPool3D, Activation, Reshape, SpatialDropout3D, BatchNormalization, TimeDistributed, Flatten\n",
    "from tensorflow.keras.optimizers import Adam\n",
    "from tensorflow.keras.callbacks import ModelCheckpoint, LearningRateScheduler\n",
    "\n"
   ]
  },
  {
   "cell_type": "code",
   "execution_count": null,
   "id": "3f753ed2-70b9-4236-8c1c-08ca065dc8bf",
   "metadata": {
    "colab": {
     "base_uri": "https://localhost:8080/"
    },
    "id": "3f753ed2-70b9-4236-8c1c-08ca065dc8bf",
    "outputId": "ee733644-c0fd-490b-8872-900da9c50afa"
   },
   "outputs": [],
   "source": [
    "data.as_numpy_iterator().next()[0][0].shape"
   ]
  },
  {
   "cell_type": "code",
   "execution_count": null,
   "id": "f9171056-a352-491a-9ed9-92b28ced268e",
   "metadata": {
    "id": "f9171056-a352-491a-9ed9-92b28ced268e",
    "tags": []
   },
   "outputs": [],
   "source": [
    "model = Sequential()\n",
    "model.add(Conv3D(128, 3, input_shape=(75,46,175,1), padding='same'))\n",
    "model.add(Activation('relu'))\n",
    "model.add(MaxPool3D((1,2,2)))\n",
    "\n",
    "model.add(Conv3D(256, 3, padding='same'))\n",
    "model.add(Activation('relu'))\n",
    "model.add(MaxPool3D((1,2,2)))\n",
    "\n",
    "model.add(Conv3D(75, 3, padding='same'))\n",
    "model.add(Activation('relu'))\n",
    "model.add(MaxPool3D((1,2,2)))\n",
    "\n",
    "model.add(TimeDistributed(Flatten()))\n",
    "\n",
    "model.add(Bidirectional(LSTM(128, kernel_initializer='Orthogonal', return_sequences=True)))\n",
    "model.add(Dropout(.5))\n",
    "\n",
    "model.add(Bidirectional(LSTM(128, kernel_initializer='Orthogonal', return_sequences=True)))\n",
    "model.add(Dropout(.5))\n",
    "\n",
    "model.add(Dense(char_to_num.vocabulary_size()+1, kernel_initializer='he_normal', activation='softmax'))"
   ]
  },
  {
   "cell_type": "code",
   "execution_count": null,
   "id": "78851825-2bcd-42a9-b7f2-28bb5a6bf43a",
   "metadata": {
    "colab": {
     "base_uri": "https://localhost:8080/"
    },
    "id": "78851825-2bcd-42a9-b7f2-28bb5a6bf43a",
    "outputId": "d27406d2-a183-4f04-bec5-de1709ffbb40",
    "tags": []
   },
   "outputs": [],
   "source": [
    "model.summary()"
   ]
  },
  {
   "cell_type": "code",
   "execution_count": null,
   "id": "e5c2eae0-c359-41a4-97a0-75c44dccb7d1",
   "metadata": {
    "colab": {
     "base_uri": "https://localhost:8080/"
    },
    "id": "e5c2eae0-c359-41a4-97a0-75c44dccb7d1",
    "outputId": "dfa2d5e6-4d7a-419a-c4b8-e0dec417cd3e",
    "tags": []
   },
   "outputs": [],
   "source": [
    "yhat = model.predict(val[0])"
   ]
  },
  {
   "cell_type": "code",
   "execution_count": null,
   "id": "ffdc7319-0d69-4f7e-a6d4-ce72deb81c0b",
   "metadata": {
    "colab": {
     "base_uri": "https://localhost:8080/"
    },
    "id": "ffdc7319-0d69-4f7e-a6d4-ce72deb81c0b",
    "outputId": "93a8db3b-a8a9-4636-9840-45e65cb68480"
   },
   "outputs": [],
   "source": [
    "tf.strings.reduce_join([num_to_char(x) for x in tf.argmax(yhat[0],axis=1)])"
   ]
  },
  {
   "cell_type": "code",
   "execution_count": null,
   "id": "6ed47531-8317-4255-9a12-b757642258e6",
   "metadata": {
    "colab": {
     "base_uri": "https://localhost:8080/"
    },
    "id": "6ed47531-8317-4255-9a12-b757642258e6",
    "outputId": "ac960cf4-6436-4bab-9ae1-62b9daed61bc",
    "tags": []
   },
   "outputs": [],
   "source": [
    "tf.strings.reduce_join([num_to_char(tf.argmax(x)) for x in yhat[0]])"
   ]
  },
  {
   "cell_type": "code",
   "execution_count": null,
   "id": "7c37b9b9-5298-4038-9c33-5031d1b457f0",
   "metadata": {
    "colab": {
     "base_uri": "https://localhost:8080/"
    },
    "id": "7c37b9b9-5298-4038-9c33-5031d1b457f0",
    "outputId": "81702abf-a534-4639-cd5f-9bacd8f85795",
    "tags": []
   },
   "outputs": [],
   "source": [
    "model.input_shape"
   ]
  },
  {
   "cell_type": "code",
   "execution_count": null,
   "id": "98b316a4-5322-4782-8e36-4b3c1a696d85",
   "metadata": {
    "colab": {
     "base_uri": "https://localhost:8080/"
    },
    "id": "98b316a4-5322-4782-8e36-4b3c1a696d85",
    "outputId": "487c6629-c40f-4cd6-be24-2fbd6f5a07ec",
    "tags": []
   },
   "outputs": [],
   "source": [
    "model.output_shape"
   ]
  },
  {
   "cell_type": "markdown",
   "id": "2ec02176-5c26-46c3-aff7-8352e6563c7d",
   "metadata": {
    "id": "2ec02176-5c26-46c3-aff7-8352e6563c7d",
    "tags": []
   },
   "source": [
    "# 4. Setup Training Options and Train"
   ]
  },
  {
   "cell_type": "code",
   "execution_count": null,
   "id": "ab015fd0-7fb4-4d5d-9fa2-30a05dbd515a",
   "metadata": {
    "id": "ab015fd0-7fb4-4d5d-9fa2-30a05dbd515a",
    "tags": []
   },
   "outputs": [],
   "source": [
    "def scheduler(epoch, lr):\n",
    "    if epoch < 30:\n",
    "        return lr\n",
    "    else:\n",
    "        return lr * tf.math.exp(-0.1)"
   ]
  },
  {
   "cell_type": "code",
   "execution_count": null,
   "id": "c564d5c9-db54-4e88-b311-9aeab7fb3e69",
   "metadata": {
    "id": "c564d5c9-db54-4e88-b311-9aeab7fb3e69",
    "tags": []
   },
   "outputs": [],
   "source": [
    "def CTCLoss(y_true, y_pred):\n",
    "    batch_len = tf.cast(tf.shape(y_true)[0], dtype=\"int64\")\n",
    "    input_length = tf.cast(tf.shape(y_pred)[1], dtype=\"int64\")\n",
    "    label_length = tf.cast(tf.shape(y_true)[1], dtype=\"int64\")\n",
    "\n",
    "    input_length = input_length * tf.ones(shape=(batch_len, 1), dtype=\"int64\")\n",
    "    label_length = label_length * tf.ones(shape=(batch_len, 1), dtype=\"int64\")\n",
    "\n",
    "    loss = tf.keras.backend.ctc_batch_cost(y_true, y_pred, input_length, label_length)\n",
    "    return loss/100"
   ]
  },
  {
   "cell_type": "code",
   "execution_count": null,
   "id": "a26dc3fc-a19c-4378-bd8c-e2b597a1d15c",
   "metadata": {
    "id": "a26dc3fc-a19c-4378-bd8c-e2b597a1d15c",
    "tags": []
   },
   "outputs": [],
   "source": [
    "# # class ProduceExample(tf.keras.callbacks.Callback):\n",
    "# #     def __init__(self, dataset) -> None:\n",
    "# #         self.dataset = dataset.as_numpy_iterator()\n",
    "\n",
    "# #     def on_epoch_end(self, epoch, logs=None) -> None:\n",
    "# #         data = self.dataset.next()\n",
    "# #         yhat = self.model.predict(data[0])\n",
    "# #         decoded = tf.keras.backend.ctc_decode(yhat, [75,75], greedy=False)[0][0].numpy()\n",
    "# #         for x in range(len(yhat)):\n",
    "# #             print('Original:', tf.strings.reduce_join(num_to_char(data[1][x])).numpy().decode('utf-8'))\n",
    "# #             print('Prediction:', tf.strings.reduce_join(num_to_char(decoded[x])).numpy().decode('utf-8'))\n",
    "# #             print('~'*100)\n",
    "\n",
    "\n",
    "# class ProduceExample(tf.keras.callbacks.Callback):\n",
    "#     def __init__(self, dataset):\n",
    "#         super().__init__()\n",
    "#         self.dataset = dataset.as_numpy_iterator()\n",
    "#         self.total_letters = 0\n",
    "#         self.correct_letters = 0\n",
    "#         self.letter_accuracies = []  # Store letter accuracy values for each epoch\n",
    "\n",
    "#     def on_epoch_begin(self, epoch, logs=None):\n",
    "#         self.total_letters = 0\n",
    "#         self.correct_letters = 0\n",
    "\n",
    "#     def on_epoch_end(self, epoch, logs=None):\n",
    "#         data = self.dataset.next()\n",
    "#         yhat = self.model.predict(data[0])\n",
    "#         decoded = tf.keras.backend.ctc_decode(yhat, [75, 75], greedy=False)[0][0].numpy()\n",
    "\n",
    "#         for x in range(len(yhat)):\n",
    "#             original= tf.strings.reduce_join(num_to_char(data[1][x])).numpy().decode('utf-8')\n",
    "#             prediction = tf.strings.reduce_join(num_to_char(decoded[x])).numpy().decode('utf-8')\n",
    "            \n",
    "#             original_words = original.split()\n",
    "#             prediction_words = prediction.split()\n",
    "\n",
    "#             for orig_word, pred_word in zip(original_words, prediction_words):\n",
    "#                 for orig_char, pred_char in zip(orig_word, pred_word):\n",
    "#                     self.total_letters += 1\n",
    "#                     if orig_char == pred_char:\n",
    "#                         self.correct_letters += 1\n",
    "\n",
    "#             print('Original:', original)\n",
    "#             print('Prediction:', prediction)\n",
    "#             print('~' * 100)\n",
    "\n",
    "#         # Calculate and print letter-level accuracy\n",
    "#         accuracy = self.correct_letters / self.total_letters if self.total_letters > 0 else 0.0\n",
    "#         self.letter_accuracies.append(accuracy)  # Store accuracy for the epoch\n",
    "#         print(f'Letter-level Accuracy: {accuracy:.4f}')\n",
    "    "
   ]
  },
  {
   "cell_type": "code",
   "execution_count": null,
   "id": "ed14483f",
   "metadata": {},
   "outputs": [],
   "source": [
    "class ProduceExample(tf.keras.callbacks.Callback): \n",
    "    def __init__(self, dataset) -> None: \n",
    "        self.dataset = dataset.as_numpy_iterator()\n",
    "    \n",
    "    def on_epoch_end(self, epoch, logs=None) -> None:\n",
    "        data = self.dataset.next()\n",
    "        yhat = self.model.predict(data[0])\n",
    "        decoded = tf.keras.backend.ctc_decode(yhat, [75,75], greedy=False)[0][0].numpy()\n",
    "        for x in range(len(yhat)):  \n",
    "            originals= tf.strings.reduce_join(num_to_char(data[1][x])).numpy().decode('utf-8')\n",
    "            predictions = tf.strings.reduce_join(num_to_char(decoded[x])).numpy().decode('utf-8')\n",
    "            \n",
    "            # Tokenize the input strings into lists of words\n",
    "            prediction = predictions.split()\n",
    "            original = originals.split()\n",
    "\n",
    "            # Initialize dynamic programming matrix\n",
    "            dp_matrix = [[0] * (len(original) + 1) for _ in range(len(prediction) + 1)]\n",
    "\n",
    "            # Fill the matrix\n",
    "            for i in range(len(prediction) + 1):\n",
    "                for j in range(len(original) + 1):\n",
    "                    if i == 0:\n",
    "                        dp_matrix[i][j] = j\n",
    "                    elif j == 0:\n",
    "                        dp_matrix[i][j] = i\n",
    "                    else:\n",
    "                        substitution_cost = 0 if prediction[i - 1] == original[j - 1] else 1\n",
    "                        dp_matrix[i][j] = min(\n",
    "                            dp_matrix[i - 1][j] + 1,  # Deletion\n",
    "                            dp_matrix[i][j - 1] + 1,  # Insertion\n",
    "                            dp_matrix[i - 1][j - 1] + substitution_cost  # Substitution\n",
    "                        )\n",
    "            # Calculate WER\n",
    "            wer = dp_matrix[len(prediction)][len(original)] / len(original)\n",
    "            print(f'Word error rate : {wer}')\n",
    "\n",
    "\n",
    "\n",
    "            pred_chars = list(predictions)\n",
    "            truth_chars = list(originals)\n",
    "            # Initialize dynamic programming matrix\n",
    "            dp_matrix = [[0] * (len(truth_chars) + 1) for _ in range(len(pred_chars) + 1)]\n",
    "\n",
    "            # Fill the matrix\n",
    "            for i in range(len(pred_chars) + 1):\n",
    "                for j in range(len(truth_chars) + 1):\n",
    "                    if i == 0:\n",
    "                        dp_matrix[i][j] = j\n",
    "                    elif j == 0:\n",
    "                        dp_matrix[i][j] = i\n",
    "                    else:\n",
    "                        substitution_cost = 0 if pred_chars[i - 1] == truth_chars[j - 1] else 1\n",
    "                        dp_matrix[i][j] = min(\n",
    "                            dp_matrix[i - 1][j] + 1,  # Deletion\n",
    "                            dp_matrix[i][j - 1] + 1,  # Insertion\n",
    "                            dp_matrix[i - 1][j - 1] + substitution_cost  # Substitution\n",
    "                        )\n",
    "\n",
    "            # Calculate CER\n",
    "            cer = dp_matrix[len(pred_chars)][len(truth_chars)] / len(truth_chars)\n",
    "            print(f'Character error rate : {cer}')\n",
    "\n",
    "            print('Original:', tf.strings.reduce_join(num_to_char(data[1][x])).numpy().decode('utf-8'))\n",
    "            print('Prediction:', tf.strings.reduce_join(num_to_char(decoded[x])).numpy().decode('utf-8'))\n",
    "            print('~'*100)"
   ]
  },
  {
   "cell_type": "code",
   "execution_count": null,
   "id": "04be90d8-2482-46f9-b513-d5f4f8001c7e",
   "metadata": {
    "id": "04be90d8-2482-46f9-b513-d5f4f8001c7e",
    "tags": []
   },
   "outputs": [],
   "source": [
    "model.compile(optimizer=Adam(learning_rate=0.00001), loss=CTCLoss)"
   ]
  },
  {
   "cell_type": "code",
   "execution_count": null,
   "id": "eab49367-3f1e-4464-ae76-dbd07549d97e",
   "metadata": {
    "id": "eab49367-3f1e-4464-ae76-dbd07549d97e",
    "tags": []
   },
   "outputs": [],
   "source": [
    "checkpoint_callback = ModelCheckpoint(os.path.join('models','checkpoint'), monitor='loss', save_weights_only=True)"
   ]
  },
  {
   "cell_type": "code",
   "execution_count": null,
   "id": "e085a632-d464-46ef-8777-959cad4adb2c",
   "metadata": {
    "id": "e085a632-d464-46ef-8777-959cad4adb2c",
    "tags": []
   },
   "outputs": [],
   "source": [
    "schedule_callback = LearningRateScheduler(scheduler)"
   ]
  },
  {
   "cell_type": "code",
   "execution_count": null,
   "id": "48eca991-90ab-4592-8a79-b50e9ca015b6",
   "metadata": {
    "id": "48eca991-90ab-4592-8a79-b50e9ca015b6",
    "tags": []
   },
   "outputs": [],
   "source": [
    "example_callback = ProduceExample(test)"
   ]
  },
  {
   "cell_type": "code",
   "execution_count": null,
   "id": "e864c908",
   "metadata": {},
   "outputs": [],
   "source": [
    "model.load_weights('/home/mahimrawal/models/checkpoint')"
   ]
  },
  {
   "cell_type": "code",
   "execution_count": null,
   "id": "8ffba483-aa61-4bbe-a15f-a73e1ddf097c",
   "metadata": {
    "colab": {
     "base_uri": "https://localhost:8080/"
    },
    "id": "8ffba483-aa61-4bbe-a15f-a73e1ddf097c",
    "outputId": "cf9a32d7-ac1d-45a7-9089-bd6347cb1cff",
    "tags": []
   },
   "outputs": [],
   "source": [
    "history = model.fit(train, validation_data=test, epochs=32, callbacks=[checkpoint_callback, schedule_callback, example_callback])"
   ]
  },
  {
   "cell_type": "code",
   "execution_count": null,
   "id": "finNqEkLOwhI",
   "metadata": {
    "id": "finNqEkLOwhI"
   },
   "outputs": [],
   "source": [
    "history_dict = history.history\n",
    "plt.figure(figsize=(12, 4))\n",
    "plt.subplot(1, 2, 1)\n",
    "plt.plot(history_dict['loss'], label='Training Loss')\n",
    "plt.plot(history_dict['val_loss'], label='Validation Loss')\n",
    "plt.title('Training and Validation Loss')\n",
    "plt.xlabel('Epochs')\n",
    "plt.ylabel('Loss')\n",
    "plt.legend()\n",
    "plt.show()\n"
   ]
  },
  {
   "cell_type": "code",
   "execution_count": null,
   "id": "89a9af57",
   "metadata": {},
   "outputs": [],
   "source": [
    "import matplotlib.pyplot as plt\n",
    "\n",
    "# Read the contents of the nohup.out file\n",
    "with open('/home/mahimrawal/loss_values.txt', 'r') as file:\n",
    "    lines = file.readlines()\n",
    "\n",
    "# Extract loss and val_loss values for each epoch\n",
    "epochs = []\n",
    "loss_values = []\n",
    "val_loss_values = []\n",
    "\n",
    "for line in lines:\n",
    "    if 'Epoch' in line:\n",
    "        epoch_info = line.split()\n",
    "        epoch = int(epoch_info[1].split('/')[0])\n",
    "        epochs.append(epoch)\n",
    "        \n",
    "        if 'loss:' in epoch_info:\n",
    "            loss_index = epoch_info.index('loss:')\n",
    "            loss = float(epoch_info[loss_index + 1])\n",
    "        else:\n",
    "            loss = None\n",
    "        # Check if 'val_loss:' is present in the line\n",
    "        if 'val_loss:' in epoch_info:\n",
    "            val_loss_index = epoch_info.index('val_loss:')\n",
    "            val_loss = float(epoch_info[val_loss_index + 1])\n",
    "        else:\n",
    "            val_loss = None\n",
    "\n",
    "        loss_values.append(loss)\n",
    "        val_loss_values.append(val_loss)\n",
    "\n",
    "# Plotting\n",
    "plt.plot(epochs, loss_values, label='Training Loss')\n",
    "plt.plot(epochs, val_loss_values, label='Validation Loss')\n",
    "plt.title('Training and Validation Loss over Epochs')\n",
    "plt.xlabel('Epoch')\n",
    "plt.ylabel('Loss')\n",
    "plt.legend()\n",
    "plt.show()\n"
   ]
  },
  {
   "cell_type": "code",
   "execution_count": null,
   "id": "1d8437d7",
   "metadata": {},
   "outputs": [],
   "source": [
    "import matplotlib.pyplot as plt\n",
    "\n",
    "# Read the contents of the nohup.out file\n",
    "with open('/home/mahimrawal/loss_values.txt', 'r') as file:\n",
    "    lines = file.readlines()\n",
    "\n",
    "# Extract letter-level accuracy values for each epoch\n",
    "epochs = []\n",
    "accuracy_values = []\n",
    "\n",
    "for line in lines:\n",
    "    if 'Epoch' in line:\n",
    "        epoch_info = line.split()\n",
    "        epoch = int(epoch_info[1].split('/')[0])\n",
    "        epochs.append(epoch)\n",
    "\n",
    "        # Extract letter-level accuracy\n",
    "        accuracy_index = epoch_info.index('Accuracy:')\n",
    "        accuracy = float(epoch_info[accuracy_index + 1])\n",
    "        \n",
    "        accuracy_values.append(accuracy)\n",
    "\n",
    "# Plotting\n",
    "plt.plot(epochs, accuracy_values, label='Letter-level Accuracy')\n",
    "plt.title('Letter-level Accuracy over Epochs')\n",
    "plt.xlabel('Epoch')\n",
    "plt.ylabel('Accuracy')\n",
    "plt.legend()\n",
    "plt.show()\n"
   ]
  },
  {
   "cell_type": "markdown",
   "id": "fa8ee94b-89f7-4733-8a0c-a86f86ff590a",
   "metadata": {
    "id": "fa8ee94b-89f7-4733-8a0c-a86f86ff590a",
    "tags": []
   },
   "source": [
    "# 5. Make a Prediction"
   ]
  },
  {
   "cell_type": "code",
   "execution_count": null,
   "id": "247f664d-3c87-4e96-946e-930dad0e1c2c",
   "metadata": {
    "id": "247f664d-3c87-4e96-946e-930dad0e1c2c",
    "tags": []
   },
   "outputs": [],
   "source": [
    "model.load_weights('/home/mahimrawal/models checkpoint47/checkpoint')"
   ]
  },
  {
   "cell_type": "code",
   "execution_count": null,
   "id": "7f8d689f-b7bb-443c-9b88-e40c1d800828",
   "metadata": {
    "id": "7f8d689f-b7bb-443c-9b88-e40c1d800828",
    "tags": []
   },
   "outputs": [],
   "source": [
    "test_data = test.as_numpy_iterator()"
   ]
  },
  {
   "cell_type": "code",
   "execution_count": null,
   "id": "38546dc2-bee9-4837-864b-8a884df40ad7",
   "metadata": {
    "id": "38546dc2-bee9-4837-864b-8a884df40ad7",
    "tags": []
   },
   "outputs": [],
   "source": [
    "sample = test_data.next()"
   ]
  },
  {
   "cell_type": "code",
   "execution_count": null,
   "id": "a43621f0-229d-4c0d-9554-9c3a3da9c61a",
   "metadata": {
    "id": "a43621f0-229d-4c0d-9554-9c3a3da9c61a",
    "tags": []
   },
   "outputs": [],
   "source": [
    "yhat = model.predict(sample[0])"
   ]
  },
  {
   "cell_type": "code",
   "execution_count": null,
   "id": "ea462999-f87e-4a7e-a057-5be7b6d8f7d5",
   "metadata": {
    "id": "ea462999-f87e-4a7e-a057-5be7b6d8f7d5",
    "tags": []
   },
   "outputs": [],
   "source": [
    "print('~'*100, 'REAL TEXT')\n",
    "[tf.strings.reduce_join([num_to_char(word) for word in sentence]) for sentence in sample[1]]"
   ]
  },
  {
   "cell_type": "code",
   "execution_count": null,
   "id": "82bd4c10-dd6e-411e-834b-2a3b43fd12c5",
   "metadata": {
    "id": "82bd4c10-dd6e-411e-834b-2a3b43fd12c5",
    "tags": []
   },
   "outputs": [],
   "source": [
    "decoded = tf.keras.backend.ctc_decode(yhat, input_length=[75,75], greedy=True)[0][0].numpy()"
   ]
  },
  {
   "cell_type": "code",
   "execution_count": null,
   "id": "5d68ac46-c90b-4eab-a709-f19aee569ff5",
   "metadata": {
    "id": "5d68ac46-c90b-4eab-a709-f19aee569ff5",
    "tags": []
   },
   "outputs": [],
   "source": [
    "print('~'*100, 'PREDICTIONS')\n",
    "[tf.strings.reduce_join([num_to_char(word) for word in sentence]) for sentence in decoded]"
   ]
  },
  {
   "cell_type": "markdown",
   "id": "64622f98-e99b-4fed-a2cc-f0da82eb5431",
   "metadata": {
    "id": "64622f98-e99b-4fed-a2cc-f0da82eb5431"
   },
   "source": [
    "# Test on a Video"
   ]
  },
  {
   "cell_type": "code",
   "execution_count": null,
   "id": "a8b0c4d0-2031-4331-b91d-d87b1ae6f6e2",
   "metadata": {
    "id": "a8b0c4d0-2031-4331-b91d-d87b1ae6f6e2"
   },
   "outputs": [],
   "source": [
    "sample = load_data(tf.convert_to_tensor('/home/mahimrawal/Lip_Reading/data/s1/bras9a.mpg'))"
   ]
  },
  {
   "cell_type": "code",
   "execution_count": null,
   "id": "0cca60e4-47a9-4683-8a75-48f4684f723d",
   "metadata": {
    "id": "0cca60e4-47a9-4683-8a75-48f4684f723d"
   },
   "outputs": [],
   "source": [
    "print('~'*100, 'REAL TEXT')\n",
    "[tf.strings.reduce_join([num_to_char(word) for word in sentence]) for sentence in [sample[1]]]"
   ]
  },
  {
   "cell_type": "code",
   "execution_count": null,
   "id": "8cc5037c-1e32-435c-b0cc-01e1fb3b863c",
   "metadata": {
    "id": "8cc5037c-1e32-435c-b0cc-01e1fb3b863c"
   },
   "outputs": [],
   "source": [
    "yhat = model.predict(tf.expand_dims(sample[0], axis=0))"
   ]
  },
  {
   "cell_type": "code",
   "execution_count": null,
   "id": "22c4f77d-715d-409f-bc5e-3ebe48704e8f",
   "metadata": {
    "id": "22c4f77d-715d-409f-bc5e-3ebe48704e8f"
   },
   "outputs": [],
   "source": [
    "decoded = tf.keras.backend.ctc_decode(yhat, input_length=[75], greedy=True)[0][0].numpy()"
   ]
  },
  {
   "cell_type": "code",
   "execution_count": null,
   "id": "e4d12ecc-b634-499e-a4bc-db9f010835fb",
   "metadata": {
    "id": "e4d12ecc-b634-499e-a4bc-db9f010835fb"
   },
   "outputs": [],
   "source": [
    "print('~'*100, 'PREDICTIONS')\n",
    "[tf.strings.reduce_join([num_to_char(word) for word in sentence]) for sentence in decoded]"
   ]
  }
 ],
 "metadata": {
  "accelerator": "GPU",
  "colab": {
   "gpuType": "T4",
   "provenance": []
  },
  "kernelspec": {
   "display_name": "Python 3 (ipykernel)",
   "language": "python",
   "name": "python3"
  },
  "language_info": {
   "codemirror_mode": {
    "name": "ipython",
    "version": 3
   },
   "file_extension": ".py",
   "mimetype": "text/x-python",
   "name": "python",
   "nbconvert_exporter": "python",
   "pygments_lexer": "ipython3",
   "version": "3.9.18"
  }
 },
 "nbformat": 4,
 "nbformat_minor": 5
}
