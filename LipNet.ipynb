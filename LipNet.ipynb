{
 "cells": [
  {
   "cell_type": "markdown",
   "id": "a3573a47-3689-4668-b62f-5c8451b2b4e9",
   "metadata": {
    "id": "a3573a47-3689-4668-b62f-5c8451b2b4e9",
    "tags": []
   },
   "source": [
    "# 0. Install and Import Dependencies"
   ]
  },
  {
   "cell_type": "code",
   "execution_count": 1,
   "id": "b24af50c-20b8-409d-ad78-30a933fdd669",
   "metadata": {
    "id": "b24af50c-20b8-409d-ad78-30a933fdd669",
    "tags": []
   },
   "outputs": [
    {
     "name": "stderr",
     "output_type": "stream",
     "text": [
      "2024-03-05 11:04:47.069134: E external/local_xla/xla/stream_executor/cuda/cuda_dnn.cc:9261] Unable to register cuDNN factory: Attempting to register factory for plugin cuDNN when one has already been registered\n",
      "2024-03-05 11:04:47.069187: E external/local_xla/xla/stream_executor/cuda/cuda_fft.cc:607] Unable to register cuFFT factory: Attempting to register factory for plugin cuFFT when one has already been registered\n",
      "2024-03-05 11:04:47.071128: E external/local_xla/xla/stream_executor/cuda/cuda_blas.cc:1515] Unable to register cuBLAS factory: Attempting to register factory for plugin cuBLAS when one has already been registered\n",
      "2024-03-05 11:04:47.080817: I tensorflow/core/platform/cpu_feature_guard.cc:182] This TensorFlow binary is optimized to use available CPU instructions in performance-critical operations.\n",
      "To enable the following instructions: AVX2 FMA, in other operations, rebuild TensorFlow with the appropriate compiler flags.\n",
      "2024-03-05 11:04:47.960003: W tensorflow/compiler/tf2tensorrt/utils/py_utils.cc:38] TF-TRT Warning: Could not find TensorRT\n"
     ]
    }
   ],
   "source": [
    "import os\n",
    "import cv2\n",
    "import tensorflow as tf\n",
    "import numpy as np\n",
    "from typing import List\n",
    "from matplotlib import pyplot as plt\n",
    "import imageio"
   ]
  },
  {
   "cell_type": "code",
   "execution_count": 2,
   "id": "1e3db0b0-e559-4ad6-91fd-e7414b7d75e6",
   "metadata": {
    "colab": {
     "base_uri": "https://localhost:8080/"
    },
    "id": "1e3db0b0-e559-4ad6-91fd-e7414b7d75e6",
    "outputId": "b6457d8e-9f87-4ab7-ec4a-49b6dce1fba7"
   },
   "outputs": [
    {
     "name": "stderr",
     "output_type": "stream",
     "text": [
      "2024-03-05 11:04:51.048279: I external/local_xla/xla/stream_executor/cuda/cuda_executor.cc:901] successful NUMA node read from SysFS had negative value (-1), but there must be at least one NUMA node, so returning NUMA node zero. See more at https://github.com/torvalds/linux/blob/v6.0/Documentation/ABI/testing/sysfs-bus-pci#L344-L355\n"
     ]
    },
    {
     "data": {
      "text/plain": [
       "[PhysicalDevice(name='/physical_device:GPU:0', device_type='GPU')]"
      ]
     },
     "execution_count": 2,
     "metadata": {},
     "output_type": "execute_result"
    },
    {
     "name": "stderr",
     "output_type": "stream",
     "text": [
      "2024-03-05 11:04:51.117309: I external/local_xla/xla/stream_executor/cuda/cuda_executor.cc:901] successful NUMA node read from SysFS had negative value (-1), but there must be at least one NUMA node, so returning NUMA node zero. See more at https://github.com/torvalds/linux/blob/v6.0/Documentation/ABI/testing/sysfs-bus-pci#L344-L355\n",
      "2024-03-05 11:04:51.117592: I external/local_xla/xla/stream_executor/cuda/cuda_executor.cc:901] successful NUMA node read from SysFS had negative value (-1), but there must be at least one NUMA node, so returning NUMA node zero. See more at https://github.com/torvalds/linux/blob/v6.0/Documentation/ABI/testing/sysfs-bus-pci#L344-L355\n"
     ]
    }
   ],
   "source": [
    "tf.config.list_physical_devices('GPU') "
   ]
  },
  {
   "cell_type": "code",
   "execution_count": 3,
   "id": "378d045a-3003-4f93-b7d2-a25a97774a68",
   "metadata": {
    "id": "378d045a-3003-4f93-b7d2-a25a97774a68",
    "tags": []
   },
   "outputs": [],
   "source": [
    "physical_devices = tf.config.list_physical_devices('GPU')\n",
    "try:\n",
    "    tf.config.experimental.set_memory_growth(physical_devices[0], True)\n",
    "except:\n",
    "    pass"
   ]
  },
  {
   "cell_type": "markdown",
   "id": "7a19e88e-c7b9-45c1-ae1e-f2109329c71b",
   "metadata": {
    "id": "7a19e88e-c7b9-45c1-ae1e-f2109329c71b",
    "tags": []
   },
   "source": [
    "# 1. Build Data Loading Functions"
   ]
  },
  {
   "cell_type": "code",
   "execution_count": 4,
   "id": "8548cc59-6dfc-4acc-abc3-3e65212db02e",
   "metadata": {
    "id": "8548cc59-6dfc-4acc-abc3-3e65212db02e",
    "tags": []
   },
   "outputs": [],
   "source": [
    "def load_video(path:str) -> List[float]: \n",
    "\n",
    "    cap = cv2.VideoCapture(path)\n",
    "    frames = []\n",
    "    for _ in range(int(cap.get(cv2.CAP_PROP_FRAME_COUNT))): \n",
    "        ret, frame = cap.read()\n",
    "        frame = tf.image.rgb_to_grayscale(frame)\n",
    "        frames.append(frame[190:236,85:260,:])#For both\n",
    "        # frames.append(frame[190:236,80:220,:])\n",
    "    cap.release()\n",
    "    \n",
    "    mean = tf.math.reduce_mean(frames)\n",
    "    std = tf.math.reduce_std(tf.cast(frames, tf.float32))\n",
    "    return tf.cast((frames - mean), tf.float32) / std"
   ]
  },
  {
   "cell_type": "code",
   "execution_count": 5,
   "id": "ec735e0b-ec98-4eb0-8f49-c35527d6670a",
   "metadata": {
    "id": "ec735e0b-ec98-4eb0-8f49-c35527d6670a",
    "tags": []
   },
   "outputs": [],
   "source": [
    "vocab = [x for x in \"abcdefghijklmnopqrstuvwxyz'?!123456789 \"]"
   ]
  },
  {
   "cell_type": "code",
   "execution_count": 6,
   "id": "be04e972-d7a5-4a72-82d8-a6bdde1f3ce6",
   "metadata": {
    "colab": {
     "base_uri": "https://localhost:8080/"
    },
    "id": "be04e972-d7a5-4a72-82d8-a6bdde1f3ce6",
    "outputId": "816172b9-ae9e-48c4-d4eb-78735cb72f7b",
    "tags": []
   },
   "outputs": [
    {
     "name": "stdout",
     "output_type": "stream",
     "text": [
      "The vocabulary is: ['', 'a', 'b', 'c', 'd', 'e', 'f', 'g', 'h', 'i', 'j', 'k', 'l', 'm', 'n', 'o', 'p', 'q', 'r', 's', 't', 'u', 'v', 'w', 'x', 'y', 'z', \"'\", '?', '!', '1', '2', '3', '4', '5', '6', '7', '8', '9', ' '] (size =40)\n"
     ]
    },
    {
     "name": "stderr",
     "output_type": "stream",
     "text": [
      "2024-03-05 11:05:02.809257: I external/local_xla/xla/stream_executor/cuda/cuda_executor.cc:901] successful NUMA node read from SysFS had negative value (-1), but there must be at least one NUMA node, so returning NUMA node zero. See more at https://github.com/torvalds/linux/blob/v6.0/Documentation/ABI/testing/sysfs-bus-pci#L344-L355\n",
      "2024-03-05 11:05:02.809588: I external/local_xla/xla/stream_executor/cuda/cuda_executor.cc:901] successful NUMA node read from SysFS had negative value (-1), but there must be at least one NUMA node, so returning NUMA node zero. See more at https://github.com/torvalds/linux/blob/v6.0/Documentation/ABI/testing/sysfs-bus-pci#L344-L355\n",
      "2024-03-05 11:05:02.809787: I external/local_xla/xla/stream_executor/cuda/cuda_executor.cc:901] successful NUMA node read from SysFS had negative value (-1), but there must be at least one NUMA node, so returning NUMA node zero. See more at https://github.com/torvalds/linux/blob/v6.0/Documentation/ABI/testing/sysfs-bus-pci#L344-L355\n",
      "2024-03-05 11:05:02.974750: I external/local_xla/xla/stream_executor/cuda/cuda_executor.cc:901] successful NUMA node read from SysFS had negative value (-1), but there must be at least one NUMA node, so returning NUMA node zero. See more at https://github.com/torvalds/linux/blob/v6.0/Documentation/ABI/testing/sysfs-bus-pci#L344-L355\n",
      "2024-03-05 11:05:02.975024: I external/local_xla/xla/stream_executor/cuda/cuda_executor.cc:901] successful NUMA node read from SysFS had negative value (-1), but there must be at least one NUMA node, so returning NUMA node zero. See more at https://github.com/torvalds/linux/blob/v6.0/Documentation/ABI/testing/sysfs-bus-pci#L344-L355\n",
      "2024-03-05 11:05:02.975246: I external/local_xla/xla/stream_executor/cuda/cuda_executor.cc:901] successful NUMA node read from SysFS had negative value (-1), but there must be at least one NUMA node, so returning NUMA node zero. See more at https://github.com/torvalds/linux/blob/v6.0/Documentation/ABI/testing/sysfs-bus-pci#L344-L355\n",
      "2024-03-05 11:05:02.975439: I tensorflow/core/common_runtime/gpu/gpu_device.cc:1929] Created device /job:localhost/replica:0/task:0/device:GPU:0 with 14792 MB memory:  -> device: 0, name: Tesla V100-SXM2-16GB, pci bus id: 0000:00:04.0, compute capability: 7.0\n"
     ]
    }
   ],
   "source": [
    "char_to_num = tf.keras.layers.StringLookup(vocabulary=vocab, oov_token=\"\")\n",
    "num_to_char = tf.keras.layers.StringLookup(\n",
    "    vocabulary=char_to_num.get_vocabulary(), oov_token=\"\", invert=True\n",
    ")\n",
    "\n",
    "print(\n",
    "    f\"The vocabulary is: {char_to_num.get_vocabulary()} \"\n",
    "    f\"(size ={char_to_num.vocabulary_size()})\"\n",
    ")"
   ]
  },
  {
   "cell_type": "code",
   "execution_count": 7,
   "id": "559f7420-6802-45fa-9ca0-b1ff209b461c",
   "metadata": {
    "colab": {
     "base_uri": "https://localhost:8080/"
    },
    "id": "559f7420-6802-45fa-9ca0-b1ff209b461c",
    "outputId": "9c6b9ea2-b4ed-4c19-ea3c-d16f0c7c023b",
    "tags": []
   },
   "outputs": [
    {
     "data": {
      "text/plain": [
       "['',\n",
       " 'a',\n",
       " 'b',\n",
       " 'c',\n",
       " 'd',\n",
       " 'e',\n",
       " 'f',\n",
       " 'g',\n",
       " 'h',\n",
       " 'i',\n",
       " 'j',\n",
       " 'k',\n",
       " 'l',\n",
       " 'm',\n",
       " 'n',\n",
       " 'o',\n",
       " 'p',\n",
       " 'q',\n",
       " 'r',\n",
       " 's',\n",
       " 't',\n",
       " 'u',\n",
       " 'v',\n",
       " 'w',\n",
       " 'x',\n",
       " 'y',\n",
       " 'z',\n",
       " \"'\",\n",
       " '?',\n",
       " '!',\n",
       " '1',\n",
       " '2',\n",
       " '3',\n",
       " '4',\n",
       " '5',\n",
       " '6',\n",
       " '7',\n",
       " '8',\n",
       " '9',\n",
       " ' ']"
      ]
     },
     "execution_count": 7,
     "metadata": {},
     "output_type": "execute_result"
    }
   ],
   "source": [
    "char_to_num.get_vocabulary()"
   ]
  },
  {
   "cell_type": "code",
   "execution_count": 8,
   "id": "9491bab5-6a3c-4f79-879a-8f9fbe73ae2e",
   "metadata": {
    "id": "9491bab5-6a3c-4f79-879a-8f9fbe73ae2e",
    "tags": []
   },
   "outputs": [],
   "source": [
    "def load_alignments(path:str) -> List[str]: \n",
    "    with open(path, 'r') as f: \n",
    "        lines = f.readlines() \n",
    "    tokens = []\n",
    "    for line in lines:\n",
    "        line = line.split()\n",
    "        if line[2] != 'sil': \n",
    "            tokens = [*tokens,' ',line[2]]\n",
    "    return char_to_num(tf.reshape(tf.strings.unicode_split(tokens, input_encoding='UTF-8'), (-1)))[1:]"
   ]
  },
  {
   "cell_type": "code",
   "execution_count": 9,
   "id": "dd01ca9f-77fb-4643-a2aa-47dd82c5d66b",
   "metadata": {
    "id": "dd01ca9f-77fb-4643-a2aa-47dd82c5d66b",
    "tags": []
   },
   "outputs": [],
   "source": [
    "def load_data(path: str):\n",
    "    path = bytes.decode(path.numpy())\n",
    "    # file_name = path.split('/')[-1].split('.')[0]\n",
    "    #File name splitting for windows\n",
    "    file_name = path.split('/')[-1].split('.')[0]\n",
    "    video_path = os.path.join('/home','mahimrawal','Lip_Reading','combine','s1',f'{file_name}.mpg') #/home/mahimrawal/Lip_Reading/data\n",
    "    alignment_path = os.path.join('/home','mahimrawal','Lip_Reading','combine','alignments','s1',f'{file_name}.align')\n",
    "    frames = load_video(video_path)\n",
    "    alignments = load_alignments(alignment_path)\n",
    "\n",
    "    return frames, alignments"
   ]
  },
  {
   "cell_type": "code",
   "execution_count": 10,
   "id": "8cb7cc58-31ae-4904-a805-1177a82717d2",
   "metadata": {
    "id": "8cb7cc58-31ae-4904-a805-1177a82717d2",
    "tags": []
   },
   "outputs": [],
   "source": [
    "# test_path = 'content/data/alignments/s1/bbal6n.align'\n",
    "test_path = '/home/mahimrawal/Lip_Reading/combine/alignments/s1/bbal6n.align'"
   ]
  },
  {
   "cell_type": "code",
   "execution_count": 11,
   "id": "76aa964f-0c84-490d-897a-d00e3966e2c9",
   "metadata": {
    "colab": {
     "base_uri": "https://localhost:8080/",
     "height": 35
    },
    "id": "76aa964f-0c84-490d-897a-d00e3966e2c9",
    "outputId": "2ed6a33d-39d2-4213-e4ab-ba09851b6b92"
   },
   "outputs": [
    {
     "data": {
      "text/plain": [
       "'bbal6n'"
      ]
     },
     "execution_count": 11,
     "metadata": {},
     "output_type": "execute_result"
    }
   ],
   "source": [
    "tf.convert_to_tensor(test_path).numpy().decode('utf-8').split('/')[-1].split('.')[0]"
   ]
  },
  {
   "cell_type": "code",
   "execution_count": 12,
   "id": "eb602c71-8560-4f9e-b26b-08202febb937",
   "metadata": {
    "id": "eb602c71-8560-4f9e-b26b-08202febb937",
    "scrolled": true,
    "tags": []
   },
   "outputs": [
    {
     "name": "stderr",
     "output_type": "stream",
     "text": [
      "2024-03-05 11:05:06.273968: I external/local_tsl/tsl/platform/default/subprocess.cc:304] Start cannot spawn child process: No such file or directory\n"
     ]
    }
   ],
   "source": [
    "frames, alignments = load_data(tf.convert_to_tensor(test_path))\n"
   ]
  },
  {
   "cell_type": "code",
   "execution_count": 13,
   "id": "0e3184a1-6b02-4b4f-84a8-a0a65f951ea2",
   "metadata": {
    "colab": {
     "base_uri": "https://localhost:8080/",
     "height": 244
    },
    "id": "0e3184a1-6b02-4b4f-84a8-a0a65f951ea2",
    "outputId": "2db88f34-42bb-4774-a9bf-e023dfa330cd"
   },
   "outputs": [
    {
     "data": {
      "text/plain": [
       "<matplotlib.image.AxesImage at 0x7ff8ad0fb580>"
      ]
     },
     "execution_count": 13,
     "metadata": {},
     "output_type": "execute_result"
    },
    {
     "data": {
      "image/png": "[encoded data removed]",
      "text/plain": [
       "<Figure size 640x480 with 1 Axes>"
      ]
     },
     "metadata": {},
     "output_type": "display_data"
    }
   ],
   "source": [
    "plt.imshow(frames[70])"
   ]
  },
  {
   "cell_type": "code",
   "execution_count": 14,
   "id": "fe1ad370-b287-4b46-85a2-7c45b0bd9b10",
   "metadata": {
    "colab": {
     "base_uri": "https://localhost:8080/"
    },
    "id": "fe1ad370-b287-4b46-85a2-7c45b0bd9b10",
    "outputId": "e07e4f32-cf55-4902-bb8e-f95a3f566f50"
   },
   "outputs": [
    {
     "data": {
      "text/plain": [
       "<tf.Tensor: shape=(), dtype=string, numpy=b'bin blue at l six now'>"
      ]
     },
     "execution_count": 14,
     "metadata": {},
     "output_type": "execute_result"
    }
   ],
   "source": [
    "tf.strings.reduce_join([bytes.decode(x) for x in num_to_char(alignments.numpy()).numpy()])"
   ]
  },
  {
   "cell_type": "code",
   "execution_count": 15,
   "id": "6871031a-b0ba-4c76-a852-f6329b0f2606",
   "metadata": {
    "id": "6871031a-b0ba-4c76-a852-f6329b0f2606",
    "tags": []
   },
   "outputs": [],
   "source": [
    "def mappable_function(path:str) ->List[str]:\n",
    "    result = tf.py_function(load_data, [path], (tf.float32, tf.int64))\n",
    "    return result"
   ]
  },
  {
   "cell_type": "markdown",
   "id": "c40a7eb4-0c3e-4eab-9291-5611cb68ce08",
   "metadata": {
    "id": "c40a7eb4-0c3e-4eab-9291-5611cb68ce08",
    "tags": []
   },
   "source": [
    "# 2. Create Data Pipeline"
   ]
  },
  {
   "cell_type": "code",
   "execution_count": 16,
   "id": "f066fea2-91b1-42ed-a67d-00566a1a53ff",
   "metadata": {
    "id": "f066fea2-91b1-42ed-a67d-00566a1a53ff",
    "tags": []
   },
   "outputs": [],
   "source": [
    "data = tf.data.Dataset.list_files('/home/mahimrawal/Lip_Reading/combine/s1/*.mpg')\n",
    "data = data.shuffle(900, reshuffle_each_iteration=False)\n",
    "data = data.map(mappable_function)\n",
    "data = data.padded_batch(2, padded_shapes=([75,None,None,None],[40]))\n",
    "data = data.prefetch(tf.data.AUTOTUNE)\n",
    "# Added for split\n",
    "train = data.take(900)\n",
    "test = data.skip(900)"
   ]
  },
  {
   "cell_type": "code",
   "execution_count": 17,
   "id": "8daa909f",
   "metadata": {},
   "outputs": [
    {
     "data": {
      "text/plain": [
       "900"
      ]
     },
     "execution_count": 17,
     "metadata": {},
     "output_type": "execute_result"
    }
   ],
   "source": [
    "len(train)"
   ]
  },
  {
   "cell_type": "code",
   "execution_count": 18,
   "id": "0dd1b596",
   "metadata": {},
   "outputs": [
    {
     "data": {
      "text/plain": [
       "100"
      ]
     },
     "execution_count": 18,
     "metadata": {},
     "output_type": "execute_result"
    }
   ],
   "source": [
    "len(test)"
   ]
  },
  {
   "cell_type": "code",
   "execution_count": 19,
   "id": "5281bde8-fdc8-4da1-bd55-5a7929a9e80c",
   "metadata": {
    "id": "5281bde8-fdc8-4da1-bd55-5a7929a9e80c"
   },
   "outputs": [],
   "source": [
    "frames, alignments = data.as_numpy_iterator().next()"
   ]
  },
  {
   "cell_type": "code",
   "execution_count": 20,
   "id": "cbebe683-6afd-47fd-bba4-c83b4b13bb32",
   "metadata": {
    "colab": {
     "base_uri": "https://localhost:8080/"
    },
    "id": "cbebe683-6afd-47fd-bba4-c83b4b13bb32",
    "outputId": "849590dd-8f5f-4ab7-8896-dc687f290c7e"
   },
   "outputs": [
    {
     "data": {
      "text/plain": [
       "2"
      ]
     },
     "execution_count": 20,
     "metadata": {},
     "output_type": "execute_result"
    }
   ],
   "source": [
    "len(frames)"
   ]
  },
  {
   "cell_type": "code",
   "execution_count": 21,
   "id": "5cf2d676-93a9-434c-b3c7-bdcc2577b2e7",
   "metadata": {
    "id": "5cf2d676-93a9-434c-b3c7-bdcc2577b2e7",
    "tags": []
   },
   "outputs": [],
   "source": [
    "sample = data.as_numpy_iterator()"
   ]
  },
  {
   "cell_type": "code",
   "execution_count": 22,
   "id": "efa6cd46-7079-46c0-b45b-832f339f6cb0",
   "metadata": {
    "colab": {
     "base_uri": "https://localhost:8080/"
    },
    "id": "efa6cd46-7079-46c0-b45b-832f339f6cb0",
    "outputId": "eaca56dd-0a81-49be-c580-0f2e9ff35313",
    "scrolled": true,
    "tags": []
   },
   "outputs": [
    {
     "data": {
      "text/plain": [
       "array([[[[[ 1.3384818 ],\n",
       "          [ 1.3384818 ],\n",
       "          [ 1.3384818 ],\n",
       "          ...,\n",
       "          [ 9.856092  ],\n",
       "          [ 9.896653  ],\n",
       "          [ 9.693852  ]],\n",
       "\n",
       "         [[ 1.3384818 ],\n",
       "          [ 1.3384818 ],\n",
       "          [ 1.3384818 ],\n",
       "          ...,\n",
       "          [ 9.977773  ],\n",
       "          [ 9.977773  ],\n",
       "          [ 9.774973  ]],\n",
       "\n",
       "         [[ 1.2979217 ],\n",
       "          [ 1.2979217 ],\n",
       "          [ 1.2979217 ],\n",
       "          ...,\n",
       "          [ 0.04056005],\n",
       "          [10.140013  ],\n",
       "          [ 9.856092  ]],\n",
       "\n",
       "         ...,\n",
       "\n",
       "         [[ 1.0545614 ],\n",
       "          [ 1.0545614 ],\n",
       "          [ 1.0545614 ],\n",
       "          ...,\n",
       "          [ 9.247692  ],\n",
       "          [ 9.693852  ],\n",
       "          [10.058893  ]],\n",
       "\n",
       "         [[ 1.0545614 ],\n",
       "          [ 1.0545614 ],\n",
       "          [ 1.0545614 ],\n",
       "          ...,\n",
       "          [ 9.126012  ],\n",
       "          [ 9.491053  ],\n",
       "          [ 9.815533  ]],\n",
       "\n",
       "         [[ 1.0545614 ],\n",
       "          [ 1.0545614 ],\n",
       "          [ 1.0545614 ],\n",
       "          ...,\n",
       "          [ 9.247692  ],\n",
       "          [ 9.531612  ],\n",
       "          [ 9.774973  ]]],\n",
       "\n",
       "\n",
       "        [[[ 1.3384818 ],\n",
       "          [ 1.3384818 ],\n",
       "          [ 1.3384818 ],\n",
       "          ...,\n",
       "          [ 9.977773  ],\n",
       "          [ 9.977773  ],\n",
       "          [ 9.734412  ]],\n",
       "\n",
       "         [[ 1.3384818 ],\n",
       "          [ 1.3384818 ],\n",
       "          [ 1.3384818 ],\n",
       "          ...,\n",
       "          [10.018333  ],\n",
       "          [ 9.977773  ],\n",
       "          [ 9.734412  ]],\n",
       "\n",
       "         [[ 1.2573617 ],\n",
       "          [ 1.2573617 ],\n",
       "          [ 1.2573617 ],\n",
       "          ...,\n",
       "          [10.302254  ],\n",
       "          [10.099453  ],\n",
       "          [ 9.693852  ]],\n",
       "\n",
       "         ...,\n",
       "\n",
       "         [[ 1.0545614 ],\n",
       "          [ 1.0545614 ],\n",
       "          [ 1.0545614 ],\n",
       "          ...,\n",
       "          [ 9.166572  ],\n",
       "          [ 9.734412  ],\n",
       "          [10.058893  ]],\n",
       "\n",
       "         [[ 1.0545614 ],\n",
       "          [ 1.0545614 ],\n",
       "          [ 0.97344124],\n",
       "          ...,\n",
       "          [ 9.004332  ],\n",
       "          [ 9.572172  ],\n",
       "          [ 9.774973  ]],\n",
       "\n",
       "         [[ 1.0545614 ],\n",
       "          [ 1.0545614 ],\n",
       "          [ 0.97344124],\n",
       "          ...,\n",
       "          [ 8.923211  ],\n",
       "          [ 9.734412  ],\n",
       "          [ 9.856092  ]]],\n",
       "\n",
       "\n",
       "        [[[ 1.2979217 ],\n",
       "          [ 1.2979217 ],\n",
       "          [ 1.2979217 ],\n",
       "          ...,\n",
       "          [ 9.937213  ],\n",
       "          [ 9.896653  ],\n",
       "          [ 9.774973  ]],\n",
       "\n",
       "         [[ 1.2979217 ],\n",
       "          [ 1.2979217 ],\n",
       "          [ 1.2979217 ],\n",
       "          ...,\n",
       "          [ 9.977773  ],\n",
       "          [ 9.896653  ],\n",
       "          [ 9.774973  ]],\n",
       "\n",
       "         [[ 1.2573617 ],\n",
       "          [ 1.2573617 ],\n",
       "          [ 1.2573617 ],\n",
       "          ...,\n",
       "          [10.261693  ],\n",
       "          [10.140013  ],\n",
       "          [ 9.734412  ]],\n",
       "\n",
       "         ...,\n",
       "\n",
       "         [[ 1.0545614 ],\n",
       "          [ 1.0545614 ],\n",
       "          [ 1.0545614 ],\n",
       "          ...,\n",
       "          [ 9.126012  ],\n",
       "          [ 9.774973  ],\n",
       "          [10.018333  ]],\n",
       "\n",
       "         [[ 1.0545614 ],\n",
       "          [ 1.0545614 ],\n",
       "          [ 0.97344124],\n",
       "          ...,\n",
       "          [ 9.004332  ],\n",
       "          [ 9.531612  ],\n",
       "          [ 9.774973  ]],\n",
       "\n",
       "         [[ 1.0545614 ],\n",
       "          [ 1.0545614 ],\n",
       "          [ 0.97344124],\n",
       "          ...,\n",
       "          [ 8.923211  ],\n",
       "          [ 9.653293  ],\n",
       "          [ 9.937213  ]]],\n",
       "\n",
       "\n",
       "        ...,\n",
       "\n",
       "\n",
       "        [[[ 1.2979217 ],\n",
       "          [ 1.2979217 ],\n",
       "          [ 1.2979217 ],\n",
       "          ...,\n",
       "          [ 9.734412  ],\n",
       "          [ 9.774973  ],\n",
       "          [ 9.734412  ]],\n",
       "\n",
       "         [[ 1.2979217 ],\n",
       "          [ 1.2979217 ],\n",
       "          [ 1.2979217 ],\n",
       "          ...,\n",
       "          [ 9.856092  ],\n",
       "          [ 9.896653  ],\n",
       "          [ 9.774973  ]],\n",
       "\n",
       "         [[ 1.3384818 ],\n",
       "          [ 1.3384818 ],\n",
       "          [ 1.3384818 ],\n",
       "          ...,\n",
       "          [10.058893  ],\n",
       "          [10.302254  ],\n",
       "          [ 9.815533  ]],\n",
       "\n",
       "         ...,\n",
       "\n",
       "         [[ 0.89232117],\n",
       "          [ 0.89232117],\n",
       "          [ 0.89232117],\n",
       "          ...,\n",
       "          [ 9.491053  ],\n",
       "          [10.261693  ],\n",
       "          [10.302254  ]],\n",
       "\n",
       "         [[ 0.89232117],\n",
       "          [ 0.89232117],\n",
       "          [ 0.89232117],\n",
       "          ...,\n",
       "          [ 9.166572  ],\n",
       "          [ 9.774973  ],\n",
       "          [ 9.734412  ]],\n",
       "\n",
       "         [[ 0.89232117],\n",
       "          [ 0.89232117],\n",
       "          [ 0.89232117],\n",
       "          ...,\n",
       "          [ 9.085452  ],\n",
       "          [ 9.572172  ],\n",
       "          [ 9.653293  ]]],\n",
       "\n",
       "\n",
       "        [[[ 1.2979217 ],\n",
       "          [ 1.2979217 ],\n",
       "          [ 1.2979217 ],\n",
       "          ...,\n",
       "          [ 9.734412  ],\n",
       "          [ 9.815533  ],\n",
       "          [ 9.815533  ]],\n",
       "\n",
       "         [[ 1.2979217 ],\n",
       "          [ 1.2979217 ],\n",
       "          [ 1.2979217 ],\n",
       "          ...,\n",
       "          [ 9.856092  ],\n",
       "          [ 9.937213  ],\n",
       "          [ 9.937213  ]],\n",
       "\n",
       "         [[ 1.2979217 ],\n",
       "          [ 1.2979217 ],\n",
       "          [ 1.2573617 ],\n",
       "          ...,\n",
       "          [10.140013  ],\n",
       "          [10.140013  ],\n",
       "          [ 9.774973  ]],\n",
       "\n",
       "         ...,\n",
       "\n",
       "         [[ 0.93288124],\n",
       "          [ 0.93288124],\n",
       "          [ 0.93288124],\n",
       "          ...,\n",
       "          [ 9.653293  ],\n",
       "          [10.140013  ],\n",
       "          [ 0.        ]],\n",
       "\n",
       "         [[ 0.93288124],\n",
       "          [ 0.93288124],\n",
       "          [ 0.93288124],\n",
       "          ...,\n",
       "          [ 9.166572  ],\n",
       "          [ 9.734412  ],\n",
       "          [ 9.734412  ]],\n",
       "\n",
       "         [[ 0.93288124],\n",
       "          [ 0.93288124],\n",
       "          [ 0.93288124],\n",
       "          ...,\n",
       "          [ 8.963772  ],\n",
       "          [ 9.653293  ],\n",
       "          [ 9.653293  ]]],\n",
       "\n",
       "\n",
       "        [[[ 1.2979217 ],\n",
       "          [ 1.2979217 ],\n",
       "          [ 1.2979217 ],\n",
       "          ...,\n",
       "          [ 9.653293  ],\n",
       "          [ 9.734412  ],\n",
       "          [ 9.774973  ]],\n",
       "\n",
       "         [[ 1.2979217 ],\n",
       "          [ 1.2979217 ],\n",
       "          [ 1.2979217 ],\n",
       "          ...,\n",
       "          [ 9.693852  ],\n",
       "          [ 9.815533  ],\n",
       "          [ 9.896653  ]],\n",
       "\n",
       "         [[ 1.2979217 ],\n",
       "          [ 1.2979217 ],\n",
       "          [ 1.2573617 ],\n",
       "          ...,\n",
       "          [10.018333  ],\n",
       "          [10.221133  ],\n",
       "          [ 9.734412  ]],\n",
       "\n",
       "         ...,\n",
       "\n",
       "         [[ 0.89232117],\n",
       "          [ 0.89232117],\n",
       "          [ 0.89232117],\n",
       "          ...,\n",
       "          [ 9.612733  ],\n",
       "          [10.099453  ],\n",
       "          [ 0.12168016]],\n",
       "\n",
       "         [[ 0.89232117],\n",
       "          [ 0.89232117],\n",
       "          [ 0.89232117],\n",
       "          ...,\n",
       "          [ 9.004332  ],\n",
       "          [ 9.774973  ],\n",
       "          [ 9.774973  ]],\n",
       "\n",
       "         [[ 0.89232117],\n",
       "          [ 0.89232117],\n",
       "          [ 0.89232117],\n",
       "          ...,\n",
       "          [ 8.923211  ],\n",
       "          [ 9.693852  ],\n",
       "          [ 9.491053  ]]]],\n",
       "\n",
       "\n",
       "\n",
       "       [[[[ 1.6881372 ],\n",
       "          [ 1.6037303 ],\n",
       "          [ 1.6037303 ],\n",
       "          ...,\n",
       "          [ 0.        ],\n",
       "          [ 0.        ],\n",
       "          [ 0.        ]],\n",
       "\n",
       "         [[ 1.6881372 ],\n",
       "          [ 1.6037303 ],\n",
       "          [ 1.6037303 ],\n",
       "          ...,\n",
       "          [ 0.        ],\n",
       "          [ 0.        ],\n",
       "          [ 0.        ]],\n",
       "\n",
       "         [[ 1.6459337 ],\n",
       "          [ 1.6037303 ],\n",
       "          [ 1.6037303 ],\n",
       "          ...,\n",
       "          [10.761874  ],\n",
       "          [10.761874  ],\n",
       "          [10.761874  ]],\n",
       "\n",
       "         ...,\n",
       "\n",
       "         [[ 1.0972891 ],\n",
       "          [ 1.0972891 ],\n",
       "          [ 1.0972891 ],\n",
       "          ...,\n",
       "          [10.382044  ],\n",
       "          [10.382044  ],\n",
       "          [10.382044  ]],\n",
       "\n",
       "         [[ 1.0972891 ],\n",
       "          [ 1.0972891 ],\n",
       "          [ 1.0972891 ],\n",
       "          ...,\n",
       "          [10.382044  ],\n",
       "          [10.382044  ],\n",
       "          [10.382044  ]],\n",
       "\n",
       "         [[ 1.0972891 ],\n",
       "          [ 1.0972891 ],\n",
       "          [ 1.0972891 ],\n",
       "          ...,\n",
       "          [10.382044  ],\n",
       "          [10.382044  ],\n",
       "          [10.382044  ]]],\n",
       "\n",
       "\n",
       "        [[[ 1.6037303 ],\n",
       "          [ 1.5193235 ],\n",
       "          [ 1.5193235 ],\n",
       "          ...,\n",
       "          [10.761874  ],\n",
       "          [10.761874  ],\n",
       "          [10.761874  ]],\n",
       "\n",
       "         [[ 1.6037303 ],\n",
       "          [ 1.5193235 ],\n",
       "          [ 1.5193235 ],\n",
       "          ...,\n",
       "          [10.761874  ],\n",
       "          [10.761874  ],\n",
       "          [10.761874  ]],\n",
       "\n",
       "         [[ 1.5193235 ],\n",
       "          [ 1.5193235 ],\n",
       "          [ 1.5193235 ],\n",
       "          ...,\n",
       "          [10.719671  ],\n",
       "          [10.719671  ],\n",
       "          [10.719671  ]],\n",
       "\n",
       "         ...,\n",
       "\n",
       "         [[ 1.0972891 ],\n",
       "          [ 1.1394925 ],\n",
       "          [ 1.1394925 ],\n",
       "          ...,\n",
       "          [10.382044  ],\n",
       "          [10.382044  ],\n",
       "          [10.382044  ]],\n",
       "\n",
       "         [[ 1.0972891 ],\n",
       "          [ 1.1394925 ],\n",
       "          [ 1.1394925 ],\n",
       "          ...,\n",
       "          [10.382044  ],\n",
       "          [10.382044  ],\n",
       "          [10.382044  ]],\n",
       "\n",
       "         [[ 1.0972891 ],\n",
       "          [ 1.0972891 ],\n",
       "          [ 1.0972891 ],\n",
       "          ...,\n",
       "          [10.382044  ],\n",
       "          [10.382044  ],\n",
       "          [10.382044  ]]],\n",
       "\n",
       "\n",
       "        [[[ 1.6459337 ],\n",
       "          [ 1.6881372 ],\n",
       "          [ 1.6881372 ],\n",
       "          ...,\n",
       "          [10.761874  ],\n",
       "          [10.761874  ],\n",
       "          [10.761874  ]],\n",
       "\n",
       "         [[ 1.6459337 ],\n",
       "          [ 1.6881372 ],\n",
       "          [ 1.6881372 ],\n",
       "          ...,\n",
       "          [10.761874  ],\n",
       "          [10.761874  ],\n",
       "          [10.761874  ]],\n",
       "\n",
       "         [[ 1.5615269 ],\n",
       "          [ 1.5193235 ],\n",
       "          [ 1.5193235 ],\n",
       "          ...,\n",
       "          [10.719671  ],\n",
       "          [10.719671  ],\n",
       "          [10.719671  ]],\n",
       "\n",
       "         ...,\n",
       "\n",
       "         [[ 1.0972891 ],\n",
       "          [ 1.1394925 ],\n",
       "          [ 1.1394925 ],\n",
       "          ...,\n",
       "          [10.33984   ],\n",
       "          [10.33984   ],\n",
       "          [10.33984   ]],\n",
       "\n",
       "         [[ 1.0972891 ],\n",
       "          [ 1.1394925 ],\n",
       "          [ 1.1394925 ],\n",
       "          ...,\n",
       "          [10.33984   ],\n",
       "          [10.33984   ],\n",
       "          [10.33984   ]],\n",
       "\n",
       "         [[ 1.0972891 ],\n",
       "          [ 1.0972891 ],\n",
       "          [ 1.0972891 ],\n",
       "          ...,\n",
       "          [10.33984   ],\n",
       "          [10.33984   ],\n",
       "          [10.33984   ]]],\n",
       "\n",
       "\n",
       "        ...,\n",
       "\n",
       "\n",
       "        [[[ 1.6459337 ],\n",
       "          [ 1.6037303 ],\n",
       "          [ 1.6037303 ],\n",
       "          ...,\n",
       "          [ 0.04220343],\n",
       "          [ 0.04220343],\n",
       "          [ 0.04220343]],\n",
       "\n",
       "         [[ 1.6459337 ],\n",
       "          [ 1.6037303 ],\n",
       "          [ 1.6037303 ],\n",
       "          ...,\n",
       "          [ 0.04220343],\n",
       "          [ 0.04220343],\n",
       "          [ 0.04220343]],\n",
       "\n",
       "         [[ 1.6037303 ],\n",
       "          [ 1.6037303 ],\n",
       "          [ 1.6037303 ],\n",
       "          ...,\n",
       "          [10.761874  ],\n",
       "          [10.761874  ],\n",
       "          [10.761874  ]],\n",
       "\n",
       "         ...,\n",
       "\n",
       "         [[ 1.0972891 ],\n",
       "          [ 1.0972891 ],\n",
       "          [ 1.0972891 ],\n",
       "          ...,\n",
       "          [10.382044  ],\n",
       "          [10.382044  ],\n",
       "          [10.382044  ]],\n",
       "\n",
       "         [[ 1.0972891 ],\n",
       "          [ 1.0972891 ],\n",
       "          [ 1.0972891 ],\n",
       "          ...,\n",
       "          [10.382044  ],\n",
       "          [10.382044  ],\n",
       "          [10.382044  ]],\n",
       "\n",
       "         [[ 1.0972891 ],\n",
       "          [ 1.0972891 ],\n",
       "          [ 1.0972891 ],\n",
       "          ...,\n",
       "          [10.382044  ],\n",
       "          [10.382044  ],\n",
       "          [10.382044  ]]],\n",
       "\n",
       "\n",
       "        [[[ 1.5615269 ],\n",
       "          [ 1.5193235 ],\n",
       "          [ 1.5193235 ],\n",
       "          ...,\n",
       "          [10.761874  ],\n",
       "          [10.761874  ],\n",
       "          [10.761874  ]],\n",
       "\n",
       "         [[ 1.5615269 ],\n",
       "          [ 1.5193235 ],\n",
       "          [ 1.5193235 ],\n",
       "          ...,\n",
       "          [10.761874  ],\n",
       "          [10.761874  ],\n",
       "          [10.761874  ]],\n",
       "\n",
       "         [[ 1.6037303 ],\n",
       "          [ 1.5615269 ],\n",
       "          [ 1.5615269 ],\n",
       "          ...,\n",
       "          [ 0.        ],\n",
       "          [ 0.        ],\n",
       "          [ 0.        ]],\n",
       "\n",
       "         ...,\n",
       "\n",
       "         [[ 1.0972891 ],\n",
       "          [ 1.0972891 ],\n",
       "          [ 1.0972891 ],\n",
       "          ...,\n",
       "          [10.382044  ],\n",
       "          [10.33984   ],\n",
       "          [10.33984   ]],\n",
       "\n",
       "         [[ 1.0972891 ],\n",
       "          [ 1.0972891 ],\n",
       "          [ 1.0972891 ],\n",
       "          ...,\n",
       "          [10.382044  ],\n",
       "          [10.33984   ],\n",
       "          [10.33984   ]],\n",
       "\n",
       "         [[ 1.0972891 ],\n",
       "          [ 1.0972891 ],\n",
       "          [ 1.0972891 ],\n",
       "          ...,\n",
       "          [10.382044  ],\n",
       "          [10.33984   ],\n",
       "          [10.33984   ]]],\n",
       "\n",
       "\n",
       "        [[[ 1.5615269 ],\n",
       "          [ 1.5615269 ],\n",
       "          [ 1.5615269 ],\n",
       "          ...,\n",
       "          [ 0.04220343],\n",
       "          [ 0.04220343],\n",
       "          [ 0.04220343]],\n",
       "\n",
       "         [[ 1.5615269 ],\n",
       "          [ 1.5615269 ],\n",
       "          [ 1.5615269 ],\n",
       "          ...,\n",
       "          [ 0.08440686],\n",
       "          [ 0.04220343],\n",
       "          [ 0.04220343]],\n",
       "\n",
       "         [[ 1.6037303 ],\n",
       "          [ 1.5615269 ],\n",
       "          [ 1.5615269 ],\n",
       "          ...,\n",
       "          [10.761874  ],\n",
       "          [10.761874  ],\n",
       "          [10.761874  ]],\n",
       "\n",
       "         ...,\n",
       "\n",
       "         [[ 1.0972891 ],\n",
       "          [ 1.0972891 ],\n",
       "          [ 1.0972891 ],\n",
       "          ...,\n",
       "          [10.382044  ],\n",
       "          [10.33984   ],\n",
       "          [10.33984   ]],\n",
       "\n",
       "         [[ 1.0972891 ],\n",
       "          [ 1.0972891 ],\n",
       "          [ 1.0972891 ],\n",
       "          ...,\n",
       "          [10.382044  ],\n",
       "          [10.33984   ],\n",
       "          [10.33984   ]],\n",
       "\n",
       "         [[ 1.0972891 ],\n",
       "          [ 1.0972891 ],\n",
       "          [ 1.0972891 ],\n",
       "          ...,\n",
       "          [10.382044  ],\n",
       "          [10.33984   ],\n",
       "          [10.33984   ]]]]], dtype=float32)"
      ]
     },
     "execution_count": 22,
     "metadata": {},
     "output_type": "execute_result"
    }
   ],
   "source": [
    "val = sample.next(); val[0]"
   ]
  },
  {
   "cell_type": "code",
   "execution_count": 23,
   "id": "acf5eb4f-a0da-4a9a-bf24-af13e9cc2fbe",
   "metadata": {
    "colab": {
     "base_uri": "https://localhost:8080/"
    },
    "id": "acf5eb4f-a0da-4a9a-bf24-af13e9cc2fbe",
    "outputId": "a4615ba7-3d2f-4e49-8836-3a90b4871ecf",
    "tags": []
   },
   "outputs": [],
   "source": [
    "#imageio.mimsave('/content/animation1.mp4', val[0][0], fps=10)"
   ]
  },
  {
   "cell_type": "code",
   "execution_count": 24,
   "id": "c33a87a2-d5e0-4ec9-b174-73ebf41bf03a",
   "metadata": {
    "colab": {
     "base_uri": "https://localhost:8080/",
     "height": 244
    },
    "id": "c33a87a2-d5e0-4ec9-b174-73ebf41bf03a",
    "outputId": "0898cfa4-d735-41a8-ad23-aec04a865051",
    "tags": []
   },
   "outputs": [
    {
     "data": {
      "text/plain": [
       "<matplotlib.image.AxesImage at 0x7ff8a04cf190>"
      ]
     },
     "execution_count": 24,
     "metadata": {},
     "output_type": "execute_result"
    },
    {
     "data": {
      "image/png": "[encoded data removed]",
      "text/plain": [
       "<Figure size 640x480 with 1 Axes>"
      ]
     },
     "metadata": {},
     "output_type": "display_data"
    }
   ],
   "source": [
    "# 0:videos, 0: 1st video out of the batch,  0: return the first frame in the video\n",
    "plt.imshow(val[0][1][74])"
   ]
  },
  {
   "cell_type": "code",
   "execution_count": 25,
   "id": "84593332-133c-4205-b7a6-8e235d5e2b3b",
   "metadata": {
    "colab": {
     "base_uri": "https://localhost:8080/"
    },
    "id": "84593332-133c-4205-b7a6-8e235d5e2b3b",
    "outputId": "1539fef8-9872-4733-bad8-03c471c30af1",
    "tags": []
   },
   "outputs": [
    {
     "data": {
      "text/plain": [
       "<tf.Tensor: shape=(), dtype=string, numpy=b'bin blue in i one please'>"
      ]
     },
     "execution_count": 25,
     "metadata": {},
     "output_type": "execute_result"
    }
   ],
   "source": [
    "tf.strings.reduce_join([num_to_char(word) for word in val[1][0]])"
   ]
  },
  {
   "cell_type": "markdown",
   "id": "0f47733c-83bc-465c-b118-b198b492ad37",
   "metadata": {
    "id": "0f47733c-83bc-465c-b118-b198b492ad37",
    "tags": []
   },
   "source": [
    "# 3. Design the Deep Neural Network"
   ]
  },
  {
   "cell_type": "code",
   "execution_count": 26,
   "id": "d8e9a497-191b-4842-afbd-26f5e13c43ba",
   "metadata": {
    "id": "d8e9a497-191b-4842-afbd-26f5e13c43ba",
    "tags": []
   },
   "outputs": [],
   "source": [
    "from tensorflow.keras.models import Sequential\n",
    "from tensorflow.keras.layers import Conv3D, LSTM, Dense, Dropout, Bidirectional, MaxPool3D, Activation, Reshape, SpatialDropout3D, BatchNormalization, TimeDistributed, Flatten\n",
    "from tensorflow.keras.optimizers import Adam\n",
    "from tensorflow.keras.callbacks import ModelCheckpoint, LearningRateScheduler\n",
    "\n"
   ]
  },
  {
   "cell_type": "code",
   "execution_count": 27,
   "id": "3f753ed2-70b9-4236-8c1c-08ca065dc8bf",
   "metadata": {
    "colab": {
     "base_uri": "https://localhost:8080/"
    },
    "id": "3f753ed2-70b9-4236-8c1c-08ca065dc8bf",
    "outputId": "ee733644-c0fd-490b-8872-900da9c50afa"
   },
   "outputs": [
    {
     "data": {
      "text/plain": [
       "(75, 46, 175, 1)"
      ]
     },
     "execution_count": 27,
     "metadata": {},
     "output_type": "execute_result"
    }
   ],
   "source": [
    "data.as_numpy_iterator().next()[0][0].shape"
   ]
  },
  {
   "cell_type": "code",
   "execution_count": 28,
   "id": "f9171056-a352-491a-9ed9-92b28ced268e",
   "metadata": {
    "id": "f9171056-a352-491a-9ed9-92b28ced268e",
    "tags": []
   },
   "outputs": [],
   "source": [
    "model = Sequential()\n",
    "model.add(Conv3D(128, 3, input_shape=(75,46,175,1), padding='same'))\n",
    "model.add(Activation('relu'))\n",
    "model.add(MaxPool3D((1,2,2)))\n",
    "\n",
    "model.add(Conv3D(256, 3, padding='same'))\n",
    "model.add(Activation('relu'))\n",
    "model.add(MaxPool3D((1,2,2)))\n",
    "\n",
    "model.add(Conv3D(75, 3, padding='same'))\n",
    "model.add(Activation('relu'))\n",
    "model.add(MaxPool3D((1,2,2)))\n",
    "\n",
    "model.add(TimeDistributed(Flatten()))\n",
    "\n",
    "model.add(Bidirectional(LSTM(128, kernel_initializer='Orthogonal', return_sequences=True)))\n",
    "model.add(Dropout(.5))\n",
    "\n",
    "model.add(Bidirectional(LSTM(128, kernel_initializer='Orthogonal', return_sequences=True)))\n",
    "model.add(Dropout(.5))\n",
    "\n",
    "model.add(Dense(char_to_num.vocabulary_size()+1, kernel_initializer='he_normal', activation='softmax'))"
   ]
  },
  {
   "cell_type": "code",
   "execution_count": 29,
   "id": "78851825-2bcd-42a9-b7f2-28bb5a6bf43a",
   "metadata": {
    "colab": {
     "base_uri": "https://localhost:8080/"
    },
    "id": "78851825-2bcd-42a9-b7f2-28bb5a6bf43a",
    "outputId": "d27406d2-a183-4f04-bec5-de1709ffbb40",
    "tags": []
   },
   "outputs": [
    {
     "name": "stdout",
     "output_type": "stream",
     "text": [
      "Model: \"sequential\"\n",
      "_________________________________________________________________\n",
      " Layer (type)                Output Shape              Param #   \n",
      "=================================================================\n",
      " conv3d (Conv3D)             (None, 75, 46, 175, 128   3584      \n",
      "                             )                                   \n",
      "                                                                 \n",
      " activation (Activation)     (None, 75, 46, 175, 128   0         \n",
      "                             )                                   \n",
      "                                                                 \n",
      " max_pooling3d (MaxPooling3  (None, 75, 23, 87, 128)   0         \n",
      " D)                                                              \n",
      "                                                                 \n",
      " conv3d_1 (Conv3D)           (None, 75, 23, 87, 256)   884992    \n",
      "                                                                 \n",
      " activation_1 (Activation)   (None, 75, 23, 87, 256)   0         \n",
      "                                                                 \n",
      " max_pooling3d_1 (MaxPoolin  (None, 75, 11, 43, 256)   0         \n",
      " g3D)                                                            \n",
      "                                                                 \n",
      " conv3d_2 (Conv3D)           (None, 75, 11, 43, 75)    518475    \n",
      "                                                                 \n",
      " activation_2 (Activation)   (None, 75, 11, 43, 75)    0         \n",
      "                                                                 \n",
      " max_pooling3d_2 (MaxPoolin  (None, 75, 5, 21, 75)     0         \n",
      " g3D)                                                            \n",
      "                                                                 \n",
      " time_distributed (TimeDist  (None, 75, 7875)          0         \n",
      " ributed)                                                        \n",
      "                                                                 \n",
      " bidirectional (Bidirection  (None, 75, 256)           8196096   \n",
      " al)                                                             \n",
      "                                                                 \n",
      " dropout (Dropout)           (None, 75, 256)           0         \n",
      "                                                                 \n",
      " bidirectional_1 (Bidirecti  (None, 75, 256)           394240    \n",
      " onal)                                                           \n",
      "                                                                 \n",
      " dropout_1 (Dropout)         (None, 75, 256)           0         \n",
      "                                                                 \n",
      " dense (Dense)               (None, 75, 41)            10537     \n",
      "                                                                 \n",
      "=================================================================\n",
      "Total params: 10007924 (38.18 MB)\n",
      "Trainable params: 10007924 (38.18 MB)\n",
      "Non-trainable params: 0 (0.00 Byte)\n",
      "_________________________________________________________________\n"
     ]
    }
   ],
   "source": [
    "model.summary()"
   ]
  },
  {
   "cell_type": "code",
   "execution_count": 30,
   "id": "e5c2eae0-c359-41a4-97a0-75c44dccb7d1",
   "metadata": {
    "colab": {
     "base_uri": "https://localhost:8080/"
    },
    "id": "e5c2eae0-c359-41a4-97a0-75c44dccb7d1",
    "outputId": "dfa2d5e6-4d7a-419a-c4b8-e0dec417cd3e",
    "tags": []
   },
   "outputs": [
    {
     "name": "stderr",
     "output_type": "stream",
     "text": [
      "2024-03-05 11:05:19.387526: I external/local_xla/xla/stream_executor/cuda/cuda_dnn.cc:454] Loaded cuDNN version 8904\n",
      "2024-03-05 11:05:19.483648: I external/local_tsl/tsl/platform/default/subprocess.cc:304] Start cannot spawn child process: No such file or directory\n"
     ]
    },
    {
     "name": "stdout",
     "output_type": "stream",
     "text": [
      "1/1 [==============================] - 3s 3s/step\n"
     ]
    }
   ],
   "source": [
    "yhat = model.predict(val[0])"
   ]
  },
  {
   "cell_type": "code",
   "execution_count": 31,
   "id": "ffdc7319-0d69-4f7e-a6d4-ce72deb81c0b",
   "metadata": {
    "colab": {
     "base_uri": "https://localhost:8080/"
    },
    "id": "ffdc7319-0d69-4f7e-a6d4-ce72deb81c0b",
    "outputId": "93a8db3b-a8a9-4636-9840-45e65cb68480"
   },
   "outputs": [
    {
     "data": {
      "text/plain": [
       "<tf.Tensor: shape=(), dtype=string, numpy=b'444444444444444444444444444444444444444444444444444444444444444444444444hhh'>"
      ]
     },
     "execution_count": 31,
     "metadata": {},
     "output_type": "execute_result"
    }
   ],
   "source": [
    "tf.strings.reduce_join([num_to_char(x) for x in tf.argmax(yhat[0],axis=1)])"
   ]
  },
  {
   "cell_type": "code",
   "execution_count": 32,
   "id": "6ed47531-8317-4255-9a12-b757642258e6",
   "metadata": {
    "colab": {
     "base_uri": "https://localhost:8080/"
    },
    "id": "6ed47531-8317-4255-9a12-b757642258e6",
    "outputId": "ac960cf4-6436-4bab-9ae1-62b9daed61bc",
    "tags": []
   },
   "outputs": [
    {
     "data": {
      "text/plain": [
       "<tf.Tensor: shape=(), dtype=string, numpy=b'444444444444444444444444444444444444444444444444444444444444444444444444hhh'>"
      ]
     },
     "execution_count": 32,
     "metadata": {},
     "output_type": "execute_result"
    }
   ],
   "source": [
    "tf.strings.reduce_join([num_to_char(tf.argmax(x)) for x in yhat[0]])"
   ]
  },
  {
   "cell_type": "code",
   "execution_count": 33,
   "id": "7c37b9b9-5298-4038-9c33-5031d1b457f0",
   "metadata": {
    "colab": {
     "base_uri": "https://localhost:8080/"
    },
    "id": "7c37b9b9-5298-4038-9c33-5031d1b457f0",
    "outputId": "81702abf-a534-4639-cd5f-9bacd8f85795",
    "tags": []
   },
   "outputs": [
    {
     "data": {
      "text/plain": [
       "(None, 75, 46, 175, 1)"
      ]
     },
     "execution_count": 33,
     "metadata": {},
     "output_type": "execute_result"
    }
   ],
   "source": [
    "model.input_shape"
   ]
  },
  {
   "cell_type": "code",
   "execution_count": 34,
   "id": "98b316a4-5322-4782-8e36-4b3c1a696d85",
   "metadata": {
    "colab": {
     "base_uri": "https://localhost:8080/"
    },
    "id": "98b316a4-5322-4782-8e36-4b3c1a696d85",
    "outputId": "487c6629-c40f-4cd6-be24-2fbd6f5a07ec",
    "tags": []
   },
   "outputs": [
    {
     "data": {
      "text/plain": [
       "(None, 75, 41)"
      ]
     },
     "execution_count": 34,
     "metadata": {},
     "output_type": "execute_result"
    }
   ],
   "source": [
    "model.output_shape"
   ]
  },
  {
   "cell_type": "markdown",
   "id": "2ec02176-5c26-46c3-aff7-8352e6563c7d",
   "metadata": {
    "id": "2ec02176-5c26-46c3-aff7-8352e6563c7d",
    "tags": []
   },
   "source": [
    "# 4. Setup Training Options and Train"
   ]
  },
  {
   "cell_type": "code",
   "execution_count": 35,
   "id": "ab015fd0-7fb4-4d5d-9fa2-30a05dbd515a",
   "metadata": {
    "id": "ab015fd0-7fb4-4d5d-9fa2-30a05dbd515a",
    "tags": []
   },
   "outputs": [],
   "source": [
    "def scheduler(epoch, lr):\n",
    "    if epoch < 30:\n",
    "        return lr\n",
    "    else:\n",
    "        return lr * tf.math.exp(-0.1)"
   ]
  },
  {
   "cell_type": "code",
   "execution_count": 36,
   "id": "c564d5c9-db54-4e88-b311-9aeab7fb3e69",
   "metadata": {
    "id": "c564d5c9-db54-4e88-b311-9aeab7fb3e69",
    "tags": []
   },
   "outputs": [],
   "source": [
    "def CTCLoss(y_true, y_pred):\n",
    "    batch_len = tf.cast(tf.shape(y_true)[0], dtype=\"int64\")\n",
    "    input_length = tf.cast(tf.shape(y_pred)[1], dtype=\"int64\")\n",
    "    label_length = tf.cast(tf.shape(y_true)[1], dtype=\"int64\")\n",
    "\n",
    "    input_length = input_length * tf.ones(shape=(batch_len, 1), dtype=\"int64\")\n",
    "    label_length = label_length * tf.ones(shape=(batch_len, 1), dtype=\"int64\")\n",
    "\n",
    "    loss = tf.keras.backend.ctc_batch_cost(y_true, y_pred, input_length, label_length)\n",
    "    return loss/100"
   ]
  },
  {
   "cell_type": "code",
   "execution_count": 37,
   "id": "a26dc3fc-a19c-4378-bd8c-e2b597a1d15c",
   "metadata": {
    "id": "a26dc3fc-a19c-4378-bd8c-e2b597a1d15c",
    "tags": []
   },
   "outputs": [],
   "source": [
    "# # class ProduceExample(tf.keras.callbacks.Callback):\n",
    "# #     def __init__(self, dataset) -> None:\n",
    "# #         self.dataset = dataset.as_numpy_iterator()\n",
    "\n",
    "# #     def on_epoch_end(self, epoch, logs=None) -> None:\n",
    "# #         data = self.dataset.next()\n",
    "# #         yhat = self.model.predict(data[0])\n",
    "# #         decoded = tf.keras.backend.ctc_decode(yhat, [75,75], greedy=False)[0][0].numpy()\n",
    "# #         for x in range(len(yhat)):\n",
    "# #             print('Original:', tf.strings.reduce_join(num_to_char(data[1][x])).numpy().decode('utf-8'))\n",
    "# #             print('Prediction:', tf.strings.reduce_join(num_to_char(decoded[x])).numpy().decode('utf-8'))\n",
    "# #             print('~'*100)\n",
    "\n",
    "\n",
    "# class ProduceExample(tf.keras.callbacks.Callback):\n",
    "#     def __init__(self, dataset):\n",
    "#         super().__init__()\n",
    "#         self.dataset = dataset.as_numpy_iterator()\n",
    "#         self.total_letters = 0\n",
    "#         self.correct_letters = 0\n",
    "#         self.letter_accuracies = []  # Store letter accuracy values for each epoch\n",
    "\n",
    "#     def on_epoch_begin(self, epoch, logs=None):\n",
    "#         self.total_letters = 0\n",
    "#         self.correct_letters = 0\n",
    "\n",
    "#     def on_epoch_end(self, epoch, logs=None):\n",
    "#         data = self.dataset.next()\n",
    "#         yhat = self.model.predict(data[0])\n",
    "#         decoded = tf.keras.backend.ctc_decode(yhat, [75, 75], greedy=False)[0][0].numpy()\n",
    "\n",
    "#         for x in range(len(yhat)):\n",
    "#             original= tf.strings.reduce_join(num_to_char(data[1][x])).numpy().decode('utf-8')\n",
    "#             prediction = tf.strings.reduce_join(num_to_char(decoded[x])).numpy().decode('utf-8')\n",
    "            \n",
    "#             original_words = original.split()\n",
    "#             prediction_words = prediction.split()\n",
    "\n",
    "#             for orig_word, pred_word in zip(original_words, prediction_words):\n",
    "#                 for orig_char, pred_char in zip(orig_word, pred_word):\n",
    "#                     self.total_letters += 1\n",
    "#                     if orig_char == pred_char:\n",
    "#                         self.correct_letters += 1\n",
    "\n",
    "#             print('Original:', original)\n",
    "#             print('Prediction:', prediction)\n",
    "#             print('~' * 100)\n",
    "\n",
    "#         # Calculate and print letter-level accuracy\n",
    "#         accuracy = self.correct_letters / self.total_letters if self.total_letters > 0 else 0.0\n",
    "#         self.letter_accuracies.append(accuracy)  # Store accuracy for the epoch\n",
    "#         print(f'Letter-level Accuracy: {accuracy:.4f}')\n",
    "    "
   ]
  },
  {
   "cell_type": "code",
   "execution_count": 38,
   "id": "ed14483f",
   "metadata": {},
   "outputs": [],
   "source": [
    "class ProduceExample(tf.keras.callbacks.Callback): \n",
    "    def __init__(self, dataset) -> None: \n",
    "        self.dataset = dataset.as_numpy_iterator()\n",
    "    \n",
    "    def on_epoch_end(self, epoch, logs=None) -> None:\n",
    "        data = self.dataset.next()\n",
    "        yhat = self.model.predict(data[0])\n",
    "        decoded = tf.keras.backend.ctc_decode(yhat, [75,75], greedy=False)[0][0].numpy()\n",
    "        for x in range(len(yhat)):  \n",
    "            originals= tf.strings.reduce_join(num_to_char(data[1][x])).numpy().decode('utf-8')\n",
    "            predictions = tf.strings.reduce_join(num_to_char(decoded[x])).numpy().decode('utf-8')\n",
    "            \n",
    "            # Tokenize the input strings into lists of words\n",
    "            prediction = predictions.split()\n",
    "            original = originals.split()\n",
    "\n",
    "            # Initialize dynamic programming matrix\n",
    "            dp_matrix = [[0] * (len(original) + 1) for _ in range(len(prediction) + 1)]\n",
    "\n",
    "            # Fill the matrix\n",
    "            for i in range(len(prediction) + 1):\n",
    "                for j in range(len(original) + 1):\n",
    "                    if i == 0:\n",
    "                        dp_matrix[i][j] = j\n",
    "                    elif j == 0:\n",
    "                        dp_matrix[i][j] = i\n",
    "                    else:\n",
    "                        substitution_cost = 0 if prediction[i - 1] == original[j - 1] else 1\n",
    "                        dp_matrix[i][j] = min(\n",
    "                            dp_matrix[i - 1][j] + 1,  # Deletion\n",
    "                            dp_matrix[i][j - 1] + 1,  # Insertion\n",
    "                            dp_matrix[i - 1][j - 1] + substitution_cost  # Substitution\n",
    "                        )\n",
    "            # Calculate WER\n",
    "            wer = dp_matrix[len(prediction)][len(original)] / len(original)\n",
    "            print(f'Word error rate : {wer}')\n",
    "\n",
    "\n",
    "\n",
    "            pred_chars = list(predictions)\n",
    "            truth_chars = list(originals)\n",
    "            # Initialize dynamic programming matrix\n",
    "            dp_matrix = [[0] * (len(truth_chars) + 1) for _ in range(len(pred_chars) + 1)]\n",
    "\n",
    "            # Fill the matrix\n",
    "            for i in range(len(pred_chars) + 1):\n",
    "                for j in range(len(truth_chars) + 1):\n",
    "                    if i == 0:\n",
    "                        dp_matrix[i][j] = j\n",
    "                    elif j == 0:\n",
    "                        dp_matrix[i][j] = i\n",
    "                    else:\n",
    "                        substitution_cost = 0 if pred_chars[i - 1] == truth_chars[j - 1] else 1\n",
    "                        dp_matrix[i][j] = min(\n",
    "                            dp_matrix[i - 1][j] + 1,  # Deletion\n",
    "                            dp_matrix[i][j - 1] + 1,  # Insertion\n",
    "                            dp_matrix[i - 1][j - 1] + substitution_cost  # Substitution\n",
    "                        )\n",
    "\n",
    "            # Calculate CER\n",
    "            cer = dp_matrix[len(pred_chars)][len(truth_chars)] / len(truth_chars)\n",
    "            print(f'Character error rate : {cer}')\n",
    "\n",
    "            print('Original:', tf.strings.reduce_join(num_to_char(data[1][x])).numpy().decode('utf-8'))\n",
    "            print('Prediction:', tf.strings.reduce_join(num_to_char(decoded[x])).numpy().decode('utf-8'))\n",
    "            print('~'*100)"
   ]
  },
  {
   "cell_type": "code",
   "execution_count": 39,
   "id": "04be90d8-2482-46f9-b513-d5f4f8001c7e",
   "metadata": {
    "id": "04be90d8-2482-46f9-b513-d5f4f8001c7e",
    "tags": []
   },
   "outputs": [],
   "source": [
    "model.compile(optimizer=Adam(learning_rate=0.00001), loss=CTCLoss)"
   ]
  },
  {
   "cell_type": "code",
   "execution_count": 40,
   "id": "eab49367-3f1e-4464-ae76-dbd07549d97e",
   "metadata": {
    "id": "eab49367-3f1e-4464-ae76-dbd07549d97e",
    "tags": []
   },
   "outputs": [],
   "source": [
    "checkpoint_callback = ModelCheckpoint(os.path.join('models','checkpoint'), monitor='loss', save_weights_only=True)"
   ]
  },
  {
   "cell_type": "code",
   "execution_count": 41,
   "id": "e085a632-d464-46ef-8777-959cad4adb2c",
   "metadata": {
    "id": "e085a632-d464-46ef-8777-959cad4adb2c",
    "tags": []
   },
   "outputs": [],
   "source": [
    "schedule_callback = LearningRateScheduler(scheduler)"
   ]
  },
  {
   "cell_type": "code",
   "execution_count": 42,
   "id": "48eca991-90ab-4592-8a79-b50e9ca015b6",
   "metadata": {
    "id": "48eca991-90ab-4592-8a79-b50e9ca015b6",
    "tags": []
   },
   "outputs": [],
   "source": [
    "example_callback = ProduceExample(test)"
   ]
  },
  {
   "cell_type": "code",
   "execution_count": 43,
   "id": "e864c908",
   "metadata": {},
   "outputs": [
    {
     "data": {
      "text/plain": [
       "<tensorflow.python.checkpoint.checkpoint.CheckpointLoadStatus at 0x7ff85b917fa0>"
      ]
     },
     "execution_count": 43,
     "metadata": {},
     "output_type": "execute_result"
    }
   ],
   "source": [
    "model.load_weights('/home/mahimrawal/models/checkpoint')"
   ]
  },
  {
   "cell_type": "code",
   "execution_count": 44,
   "id": "8ffba483-aa61-4bbe-a15f-a73e1ddf097c",
   "metadata": {
    "colab": {
     "base_uri": "https://localhost:8080/"
    },
    "id": "8ffba483-aa61-4bbe-a15f-a73e1ddf097c",
    "outputId": "cf9a32d7-ac1d-45a7-9089-bd6347cb1cff",
    "tags": []
   },
   "outputs": [
    {
     "name": "stdout",
     "output_type": "stream",
     "text": [
      "Epoch 1/32\n"
     ]
    },
    {
     "name": "stderr",
     "output_type": "stream",
     "text": [
      "2024-03-05 11:05:46.918406: I external/local_xla/xla/service/service.cc:168] XLA service 0x7ff7c889edf0 initialized for platform CUDA (this does not guarantee that XLA will be used). Devices:\n",
      "2024-03-05 11:05:46.918443: I external/local_xla/xla/service/service.cc:176]   StreamExecutor device (0): Tesla V100-SXM2-16GB, Compute Capability 7.0\n",
      "2024-03-05 11:05:46.932325: I tensorflow/compiler/mlir/tensorflow/utils/dump_mlir_util.cc:269] disabling MLIR crash reproducer, set env var `MLIR_CRASH_REPRODUCER_DIRECTORY` to enable.\n",
      "WARNING: All log messages before absl::InitializeLog() is called are written to STDERR\n",
      "I0000 00:00:1709636747.040848  944061 device_compiler.h:186] Compiled cluster using XLA!  This line is logged at most once for the lifetime of the process.\n"
     ]
    },
    {
     "name": "stdout",
     "output_type": "stream",
     "text": [
      " 11/900 [..............................] - ETA: 7:16 - loss: 0.1641"
     ]
    },
    {
     "ename": "KeyboardInterrupt",
     "evalue": "",
     "output_type": "error",
     "traceback": [
      "\u001b[0;31m---------------------------------------------------------------------------\u001b[0m",
      "\u001b[0;31mKeyboardInterrupt\u001b[0m                         Traceback (most recent call last)",
      "Cell \u001b[0;32mIn[44], line 1\u001b[0m\n\u001b[0;32m----> 1\u001b[0m history \u001b[38;5;241m=\u001b[39m \u001b[43mmodel\u001b[49m\u001b[38;5;241;43m.\u001b[39;49m\u001b[43mfit\u001b[49m\u001b[43m(\u001b[49m\u001b[43mtrain\u001b[49m\u001b[43m,\u001b[49m\u001b[43m \u001b[49m\u001b[43mvalidation_data\u001b[49m\u001b[38;5;241;43m=\u001b[39;49m\u001b[43mtest\u001b[49m\u001b[43m,\u001b[49m\u001b[43m \u001b[49m\u001b[43mepochs\u001b[49m\u001b[38;5;241;43m=\u001b[39;49m\u001b[38;5;241;43m32\u001b[39;49m\u001b[43m,\u001b[49m\u001b[43m \u001b[49m\u001b[43mcallbacks\u001b[49m\u001b[38;5;241;43m=\u001b[39;49m\u001b[43m[\u001b[49m\u001b[43mcheckpoint_callback\u001b[49m\u001b[43m,\u001b[49m\u001b[43m \u001b[49m\u001b[43mschedule_callback\u001b[49m\u001b[43m,\u001b[49m\u001b[43m \u001b[49m\u001b[43mexample_callback\u001b[49m\u001b[43m]\u001b[49m\u001b[43m)\u001b[49m\n",
      "File \u001b[0;32m~/anaconda3/envs/tf/lib/python3.9/site-packages/keras/src/utils/traceback_utils.py:65\u001b[0m, in \u001b[0;36mfilter_traceback.<locals>.error_handler\u001b[0;34m(*args, **kwargs)\u001b[0m\n\u001b[1;32m     63\u001b[0m filtered_tb \u001b[38;5;241m=\u001b[39m \u001b[38;5;28;01mNone\u001b[39;00m\n\u001b[1;32m     64\u001b[0m \u001b[38;5;28;01mtry\u001b[39;00m:\n\u001b[0;32m---> 65\u001b[0m     \u001b[38;5;28;01mreturn\u001b[39;00m \u001b[43mfn\u001b[49m\u001b[43m(\u001b[49m\u001b[38;5;241;43m*\u001b[39;49m\u001b[43margs\u001b[49m\u001b[43m,\u001b[49m\u001b[43m \u001b[49m\u001b[38;5;241;43m*\u001b[39;49m\u001b[38;5;241;43m*\u001b[39;49m\u001b[43mkwargs\u001b[49m\u001b[43m)\u001b[49m\n\u001b[1;32m     66\u001b[0m \u001b[38;5;28;01mexcept\u001b[39;00m \u001b[38;5;167;01mException\u001b[39;00m \u001b[38;5;28;01mas\u001b[39;00m e:\n\u001b[1;32m     67\u001b[0m     filtered_tb \u001b[38;5;241m=\u001b[39m _process_traceback_frames(e\u001b[38;5;241m.\u001b[39m__traceback__)\n",
      "File \u001b[0;32m~/anaconda3/envs/tf/lib/python3.9/site-packages/keras/src/engine/training.py:1807\u001b[0m, in \u001b[0;36mModel.fit\u001b[0;34m(self, x, y, batch_size, epochs, verbose, callbacks, validation_split, validation_data, shuffle, class_weight, sample_weight, initial_epoch, steps_per_epoch, validation_steps, validation_batch_size, validation_freq, max_queue_size, workers, use_multiprocessing)\u001b[0m\n\u001b[1;32m   1799\u001b[0m \u001b[38;5;28;01mwith\u001b[39;00m tf\u001b[38;5;241m.\u001b[39mprofiler\u001b[38;5;241m.\u001b[39mexperimental\u001b[38;5;241m.\u001b[39mTrace(\n\u001b[1;32m   1800\u001b[0m     \u001b[38;5;124m\"\u001b[39m\u001b[38;5;124mtrain\u001b[39m\u001b[38;5;124m\"\u001b[39m,\n\u001b[1;32m   1801\u001b[0m     epoch_num\u001b[38;5;241m=\u001b[39mepoch,\n\u001b[0;32m   (...)\u001b[0m\n\u001b[1;32m   1804\u001b[0m     _r\u001b[38;5;241m=\u001b[39m\u001b[38;5;241m1\u001b[39m,\n\u001b[1;32m   1805\u001b[0m ):\n\u001b[1;32m   1806\u001b[0m     callbacks\u001b[38;5;241m.\u001b[39mon_train_batch_begin(step)\n\u001b[0;32m-> 1807\u001b[0m     tmp_logs \u001b[38;5;241m=\u001b[39m \u001b[38;5;28;43mself\u001b[39;49m\u001b[38;5;241;43m.\u001b[39;49m\u001b[43mtrain_function\u001b[49m\u001b[43m(\u001b[49m\u001b[43miterator\u001b[49m\u001b[43m)\u001b[49m\n\u001b[1;32m   1808\u001b[0m     \u001b[38;5;28;01mif\u001b[39;00m data_handler\u001b[38;5;241m.\u001b[39mshould_sync:\n\u001b[1;32m   1809\u001b[0m         context\u001b[38;5;241m.\u001b[39masync_wait()\n",
      "File \u001b[0;32m~/anaconda3/envs/tf/lib/python3.9/site-packages/tensorflow/python/util/traceback_utils.py:150\u001b[0m, in \u001b[0;36mfilter_traceback.<locals>.error_handler\u001b[0;34m(*args, **kwargs)\u001b[0m\n\u001b[1;32m    148\u001b[0m filtered_tb \u001b[38;5;241m=\u001b[39m \u001b[38;5;28;01mNone\u001b[39;00m\n\u001b[1;32m    149\u001b[0m \u001b[38;5;28;01mtry\u001b[39;00m:\n\u001b[0;32m--> 150\u001b[0m   \u001b[38;5;28;01mreturn\u001b[39;00m \u001b[43mfn\u001b[49m\u001b[43m(\u001b[49m\u001b[38;5;241;43m*\u001b[39;49m\u001b[43margs\u001b[49m\u001b[43m,\u001b[49m\u001b[43m \u001b[49m\u001b[38;5;241;43m*\u001b[39;49m\u001b[38;5;241;43m*\u001b[39;49m\u001b[43mkwargs\u001b[49m\u001b[43m)\u001b[49m\n\u001b[1;32m    151\u001b[0m \u001b[38;5;28;01mexcept\u001b[39;00m \u001b[38;5;167;01mException\u001b[39;00m \u001b[38;5;28;01mas\u001b[39;00m e:\n\u001b[1;32m    152\u001b[0m   filtered_tb \u001b[38;5;241m=\u001b[39m _process_traceback_frames(e\u001b[38;5;241m.\u001b[39m__traceback__)\n",
      "File \u001b[0;32m~/anaconda3/envs/tf/lib/python3.9/site-packages/tensorflow/python/eager/polymorphic_function/polymorphic_function.py:832\u001b[0m, in \u001b[0;36mFunction.__call__\u001b[0;34m(self, *args, **kwds)\u001b[0m\n\u001b[1;32m    829\u001b[0m compiler \u001b[38;5;241m=\u001b[39m \u001b[38;5;124m\"\u001b[39m\u001b[38;5;124mxla\u001b[39m\u001b[38;5;124m\"\u001b[39m \u001b[38;5;28;01mif\u001b[39;00m \u001b[38;5;28mself\u001b[39m\u001b[38;5;241m.\u001b[39m_jit_compile \u001b[38;5;28;01melse\u001b[39;00m \u001b[38;5;124m\"\u001b[39m\u001b[38;5;124mnonXla\u001b[39m\u001b[38;5;124m\"\u001b[39m\n\u001b[1;32m    831\u001b[0m \u001b[38;5;28;01mwith\u001b[39;00m OptionalXlaContext(\u001b[38;5;28mself\u001b[39m\u001b[38;5;241m.\u001b[39m_jit_compile):\n\u001b[0;32m--> 832\u001b[0m   result \u001b[38;5;241m=\u001b[39m \u001b[38;5;28;43mself\u001b[39;49m\u001b[38;5;241;43m.\u001b[39;49m\u001b[43m_call\u001b[49m\u001b[43m(\u001b[49m\u001b[38;5;241;43m*\u001b[39;49m\u001b[43margs\u001b[49m\u001b[43m,\u001b[49m\u001b[43m \u001b[49m\u001b[38;5;241;43m*\u001b[39;49m\u001b[38;5;241;43m*\u001b[39;49m\u001b[43mkwds\u001b[49m\u001b[43m)\u001b[49m\n\u001b[1;32m    834\u001b[0m new_tracing_count \u001b[38;5;241m=\u001b[39m \u001b[38;5;28mself\u001b[39m\u001b[38;5;241m.\u001b[39mexperimental_get_tracing_count()\n\u001b[1;32m    835\u001b[0m without_tracing \u001b[38;5;241m=\u001b[39m (tracing_count \u001b[38;5;241m==\u001b[39m new_tracing_count)\n",
      "File \u001b[0;32m~/anaconda3/envs/tf/lib/python3.9/site-packages/tensorflow/python/eager/polymorphic_function/polymorphic_function.py:868\u001b[0m, in \u001b[0;36mFunction._call\u001b[0;34m(self, *args, **kwds)\u001b[0m\n\u001b[1;32m    865\u001b[0m   \u001b[38;5;28mself\u001b[39m\u001b[38;5;241m.\u001b[39m_lock\u001b[38;5;241m.\u001b[39mrelease()\n\u001b[1;32m    866\u001b[0m   \u001b[38;5;66;03m# In this case we have created variables on the first call, so we run the\u001b[39;00m\n\u001b[1;32m    867\u001b[0m   \u001b[38;5;66;03m# defunned version which is guaranteed to never create variables.\u001b[39;00m\n\u001b[0;32m--> 868\u001b[0m   \u001b[38;5;28;01mreturn\u001b[39;00m \u001b[43mtracing_compilation\u001b[49m\u001b[38;5;241;43m.\u001b[39;49m\u001b[43mcall_function\u001b[49m\u001b[43m(\u001b[49m\n\u001b[1;32m    869\u001b[0m \u001b[43m      \u001b[49m\u001b[43margs\u001b[49m\u001b[43m,\u001b[49m\u001b[43m \u001b[49m\u001b[43mkwds\u001b[49m\u001b[43m,\u001b[49m\u001b[43m \u001b[49m\u001b[38;5;28;43mself\u001b[39;49m\u001b[38;5;241;43m.\u001b[39;49m\u001b[43m_no_variable_creation_config\u001b[49m\n\u001b[1;32m    870\u001b[0m \u001b[43m  \u001b[49m\u001b[43m)\u001b[49m\n\u001b[1;32m    871\u001b[0m \u001b[38;5;28;01melif\u001b[39;00m \u001b[38;5;28mself\u001b[39m\u001b[38;5;241m.\u001b[39m_variable_creation_config \u001b[38;5;129;01mis\u001b[39;00m \u001b[38;5;129;01mnot\u001b[39;00m \u001b[38;5;28;01mNone\u001b[39;00m:\n\u001b[1;32m    872\u001b[0m   \u001b[38;5;66;03m# Release the lock early so that multiple threads can perform the call\u001b[39;00m\n\u001b[1;32m    873\u001b[0m   \u001b[38;5;66;03m# in parallel.\u001b[39;00m\n\u001b[1;32m    874\u001b[0m   \u001b[38;5;28mself\u001b[39m\u001b[38;5;241m.\u001b[39m_lock\u001b[38;5;241m.\u001b[39mrelease()\n",
      "File \u001b[0;32m~/anaconda3/envs/tf/lib/python3.9/site-packages/tensorflow/python/eager/polymorphic_function/tracing_compilation.py:139\u001b[0m, in \u001b[0;36mcall_function\u001b[0;34m(args, kwargs, tracing_options)\u001b[0m\n\u001b[1;32m    137\u001b[0m bound_args \u001b[38;5;241m=\u001b[39m function\u001b[38;5;241m.\u001b[39mfunction_type\u001b[38;5;241m.\u001b[39mbind(\u001b[38;5;241m*\u001b[39margs, \u001b[38;5;241m*\u001b[39m\u001b[38;5;241m*\u001b[39mkwargs)\n\u001b[1;32m    138\u001b[0m flat_inputs \u001b[38;5;241m=\u001b[39m function\u001b[38;5;241m.\u001b[39mfunction_type\u001b[38;5;241m.\u001b[39munpack_inputs(bound_args)\n\u001b[0;32m--> 139\u001b[0m \u001b[38;5;28;01mreturn\u001b[39;00m \u001b[43mfunction\u001b[49m\u001b[38;5;241;43m.\u001b[39;49m\u001b[43m_call_flat\u001b[49m\u001b[43m(\u001b[49m\u001b[43m  \u001b[49m\u001b[38;5;66;43;03m# pylint: disable=protected-access\u001b[39;49;00m\n\u001b[1;32m    140\u001b[0m \u001b[43m    \u001b[49m\u001b[43mflat_inputs\u001b[49m\u001b[43m,\u001b[49m\u001b[43m \u001b[49m\u001b[43mcaptured_inputs\u001b[49m\u001b[38;5;241;43m=\u001b[39;49m\u001b[43mfunction\u001b[49m\u001b[38;5;241;43m.\u001b[39;49m\u001b[43mcaptured_inputs\u001b[49m\n\u001b[1;32m    141\u001b[0m \u001b[43m\u001b[49m\u001b[43m)\u001b[49m\n",
      "File \u001b[0;32m~/anaconda3/envs/tf/lib/python3.9/site-packages/tensorflow/python/eager/polymorphic_function/concrete_function.py:1323\u001b[0m, in \u001b[0;36mConcreteFunction._call_flat\u001b[0;34m(self, tensor_inputs, captured_inputs)\u001b[0m\n\u001b[1;32m   1319\u001b[0m possible_gradient_type \u001b[38;5;241m=\u001b[39m gradients_util\u001b[38;5;241m.\u001b[39mPossibleTapeGradientTypes(args)\n\u001b[1;32m   1320\u001b[0m \u001b[38;5;28;01mif\u001b[39;00m (possible_gradient_type \u001b[38;5;241m==\u001b[39m gradients_util\u001b[38;5;241m.\u001b[39mPOSSIBLE_GRADIENT_TYPES_NONE\n\u001b[1;32m   1321\u001b[0m     \u001b[38;5;129;01mand\u001b[39;00m executing_eagerly):\n\u001b[1;32m   1322\u001b[0m   \u001b[38;5;66;03m# No tape is watching; skip to running the function.\u001b[39;00m\n\u001b[0;32m-> 1323\u001b[0m   \u001b[38;5;28;01mreturn\u001b[39;00m \u001b[38;5;28;43mself\u001b[39;49m\u001b[38;5;241;43m.\u001b[39;49m\u001b[43m_inference_function\u001b[49m\u001b[38;5;241;43m.\u001b[39;49m\u001b[43mcall_preflattened\u001b[49m\u001b[43m(\u001b[49m\u001b[43margs\u001b[49m\u001b[43m)\u001b[49m\n\u001b[1;32m   1324\u001b[0m forward_backward \u001b[38;5;241m=\u001b[39m \u001b[38;5;28mself\u001b[39m\u001b[38;5;241m.\u001b[39m_select_forward_and_backward_functions(\n\u001b[1;32m   1325\u001b[0m     args,\n\u001b[1;32m   1326\u001b[0m     possible_gradient_type,\n\u001b[1;32m   1327\u001b[0m     executing_eagerly)\n\u001b[1;32m   1328\u001b[0m forward_function, args_with_tangents \u001b[38;5;241m=\u001b[39m forward_backward\u001b[38;5;241m.\u001b[39mforward()\n",
      "File \u001b[0;32m~/anaconda3/envs/tf/lib/python3.9/site-packages/tensorflow/python/eager/polymorphic_function/atomic_function.py:216\u001b[0m, in \u001b[0;36mAtomicFunction.call_preflattened\u001b[0;34m(self, args)\u001b[0m\n\u001b[1;32m    214\u001b[0m \u001b[38;5;28;01mdef\u001b[39;00m \u001b[38;5;21mcall_preflattened\u001b[39m(\u001b[38;5;28mself\u001b[39m, args: Sequence[core\u001b[38;5;241m.\u001b[39mTensor]) \u001b[38;5;241m-\u001b[39m\u001b[38;5;241m>\u001b[39m Any:\n\u001b[1;32m    215\u001b[0m \u001b[38;5;250m  \u001b[39m\u001b[38;5;124;03m\"\"\"Calls with flattened tensor inputs and returns the structured output.\"\"\"\u001b[39;00m\n\u001b[0;32m--> 216\u001b[0m   flat_outputs \u001b[38;5;241m=\u001b[39m \u001b[38;5;28;43mself\u001b[39;49m\u001b[38;5;241;43m.\u001b[39;49m\u001b[43mcall_flat\u001b[49m\u001b[43m(\u001b[49m\u001b[38;5;241;43m*\u001b[39;49m\u001b[43margs\u001b[49m\u001b[43m)\u001b[49m\n\u001b[1;32m    217\u001b[0m   \u001b[38;5;28;01mreturn\u001b[39;00m \u001b[38;5;28mself\u001b[39m\u001b[38;5;241m.\u001b[39mfunction_type\u001b[38;5;241m.\u001b[39mpack_output(flat_outputs)\n",
      "File \u001b[0;32m~/anaconda3/envs/tf/lib/python3.9/site-packages/tensorflow/python/eager/polymorphic_function/atomic_function.py:251\u001b[0m, in \u001b[0;36mAtomicFunction.call_flat\u001b[0;34m(self, *args)\u001b[0m\n\u001b[1;32m    249\u001b[0m \u001b[38;5;28;01mwith\u001b[39;00m record\u001b[38;5;241m.\u001b[39mstop_recording():\n\u001b[1;32m    250\u001b[0m   \u001b[38;5;28;01mif\u001b[39;00m \u001b[38;5;28mself\u001b[39m\u001b[38;5;241m.\u001b[39m_bound_context\u001b[38;5;241m.\u001b[39mexecuting_eagerly():\n\u001b[0;32m--> 251\u001b[0m     outputs \u001b[38;5;241m=\u001b[39m \u001b[38;5;28;43mself\u001b[39;49m\u001b[38;5;241;43m.\u001b[39;49m\u001b[43m_bound_context\u001b[49m\u001b[38;5;241;43m.\u001b[39;49m\u001b[43mcall_function\u001b[49m\u001b[43m(\u001b[49m\n\u001b[1;32m    252\u001b[0m \u001b[43m        \u001b[49m\u001b[38;5;28;43mself\u001b[39;49m\u001b[38;5;241;43m.\u001b[39;49m\u001b[43mname\u001b[49m\u001b[43m,\u001b[49m\n\u001b[1;32m    253\u001b[0m \u001b[43m        \u001b[49m\u001b[38;5;28;43mlist\u001b[39;49m\u001b[43m(\u001b[49m\u001b[43margs\u001b[49m\u001b[43m)\u001b[49m\u001b[43m,\u001b[49m\n\u001b[1;32m    254\u001b[0m \u001b[43m        \u001b[49m\u001b[38;5;28;43mlen\u001b[39;49m\u001b[43m(\u001b[49m\u001b[38;5;28;43mself\u001b[39;49m\u001b[38;5;241;43m.\u001b[39;49m\u001b[43mfunction_type\u001b[49m\u001b[38;5;241;43m.\u001b[39;49m\u001b[43mflat_outputs\u001b[49m\u001b[43m)\u001b[49m\u001b[43m,\u001b[49m\n\u001b[1;32m    255\u001b[0m \u001b[43m    \u001b[49m\u001b[43m)\u001b[49m\n\u001b[1;32m    256\u001b[0m   \u001b[38;5;28;01melse\u001b[39;00m:\n\u001b[1;32m    257\u001b[0m     outputs \u001b[38;5;241m=\u001b[39m make_call_op_in_graph(\n\u001b[1;32m    258\u001b[0m         \u001b[38;5;28mself\u001b[39m,\n\u001b[1;32m    259\u001b[0m         \u001b[38;5;28mlist\u001b[39m(args),\n\u001b[1;32m    260\u001b[0m         \u001b[38;5;28mself\u001b[39m\u001b[38;5;241m.\u001b[39m_bound_context\u001b[38;5;241m.\u001b[39mfunction_call_options\u001b[38;5;241m.\u001b[39mas_attrs(),\n\u001b[1;32m    261\u001b[0m     )\n",
      "File \u001b[0;32m~/anaconda3/envs/tf/lib/python3.9/site-packages/tensorflow/python/eager/context.py:1486\u001b[0m, in \u001b[0;36mContext.call_function\u001b[0;34m(self, name, tensor_inputs, num_outputs)\u001b[0m\n\u001b[1;32m   1484\u001b[0m cancellation_context \u001b[38;5;241m=\u001b[39m cancellation\u001b[38;5;241m.\u001b[39mcontext()\n\u001b[1;32m   1485\u001b[0m \u001b[38;5;28;01mif\u001b[39;00m cancellation_context \u001b[38;5;129;01mis\u001b[39;00m \u001b[38;5;28;01mNone\u001b[39;00m:\n\u001b[0;32m-> 1486\u001b[0m   outputs \u001b[38;5;241m=\u001b[39m \u001b[43mexecute\u001b[49m\u001b[38;5;241;43m.\u001b[39;49m\u001b[43mexecute\u001b[49m\u001b[43m(\u001b[49m\n\u001b[1;32m   1487\u001b[0m \u001b[43m      \u001b[49m\u001b[43mname\u001b[49m\u001b[38;5;241;43m.\u001b[39;49m\u001b[43mdecode\u001b[49m\u001b[43m(\u001b[49m\u001b[38;5;124;43m\"\u001b[39;49m\u001b[38;5;124;43mutf-8\u001b[39;49m\u001b[38;5;124;43m\"\u001b[39;49m\u001b[43m)\u001b[49m\u001b[43m,\u001b[49m\n\u001b[1;32m   1488\u001b[0m \u001b[43m      \u001b[49m\u001b[43mnum_outputs\u001b[49m\u001b[38;5;241;43m=\u001b[39;49m\u001b[43mnum_outputs\u001b[49m\u001b[43m,\u001b[49m\n\u001b[1;32m   1489\u001b[0m \u001b[43m      \u001b[49m\u001b[43minputs\u001b[49m\u001b[38;5;241;43m=\u001b[39;49m\u001b[43mtensor_inputs\u001b[49m\u001b[43m,\u001b[49m\n\u001b[1;32m   1490\u001b[0m \u001b[43m      \u001b[49m\u001b[43mattrs\u001b[49m\u001b[38;5;241;43m=\u001b[39;49m\u001b[43mattrs\u001b[49m\u001b[43m,\u001b[49m\n\u001b[1;32m   1491\u001b[0m \u001b[43m      \u001b[49m\u001b[43mctx\u001b[49m\u001b[38;5;241;43m=\u001b[39;49m\u001b[38;5;28;43mself\u001b[39;49m\u001b[43m,\u001b[49m\n\u001b[1;32m   1492\u001b[0m \u001b[43m  \u001b[49m\u001b[43m)\u001b[49m\n\u001b[1;32m   1493\u001b[0m \u001b[38;5;28;01melse\u001b[39;00m:\n\u001b[1;32m   1494\u001b[0m   outputs \u001b[38;5;241m=\u001b[39m execute\u001b[38;5;241m.\u001b[39mexecute_with_cancellation(\n\u001b[1;32m   1495\u001b[0m       name\u001b[38;5;241m.\u001b[39mdecode(\u001b[38;5;124m\"\u001b[39m\u001b[38;5;124mutf-8\u001b[39m\u001b[38;5;124m\"\u001b[39m),\n\u001b[1;32m   1496\u001b[0m       num_outputs\u001b[38;5;241m=\u001b[39mnum_outputs,\n\u001b[0;32m   (...)\u001b[0m\n\u001b[1;32m   1500\u001b[0m       cancellation_manager\u001b[38;5;241m=\u001b[39mcancellation_context,\n\u001b[1;32m   1501\u001b[0m   )\n",
      "File \u001b[0;32m~/anaconda3/envs/tf/lib/python3.9/site-packages/tensorflow/python/eager/execute.py:53\u001b[0m, in \u001b[0;36mquick_execute\u001b[0;34m(op_name, num_outputs, inputs, attrs, ctx, name)\u001b[0m\n\u001b[1;32m     51\u001b[0m \u001b[38;5;28;01mtry\u001b[39;00m:\n\u001b[1;32m     52\u001b[0m   ctx\u001b[38;5;241m.\u001b[39mensure_initialized()\n\u001b[0;32m---> 53\u001b[0m   tensors \u001b[38;5;241m=\u001b[39m \u001b[43mpywrap_tfe\u001b[49m\u001b[38;5;241;43m.\u001b[39;49m\u001b[43mTFE_Py_Execute\u001b[49m\u001b[43m(\u001b[49m\u001b[43mctx\u001b[49m\u001b[38;5;241;43m.\u001b[39;49m\u001b[43m_handle\u001b[49m\u001b[43m,\u001b[49m\u001b[43m \u001b[49m\u001b[43mdevice_name\u001b[49m\u001b[43m,\u001b[49m\u001b[43m \u001b[49m\u001b[43mop_name\u001b[49m\u001b[43m,\u001b[49m\n\u001b[1;32m     54\u001b[0m \u001b[43m                                      \u001b[49m\u001b[43minputs\u001b[49m\u001b[43m,\u001b[49m\u001b[43m \u001b[49m\u001b[43mattrs\u001b[49m\u001b[43m,\u001b[49m\u001b[43m \u001b[49m\u001b[43mnum_outputs\u001b[49m\u001b[43m)\u001b[49m\n\u001b[1;32m     55\u001b[0m \u001b[38;5;28;01mexcept\u001b[39;00m core\u001b[38;5;241m.\u001b[39m_NotOkStatusException \u001b[38;5;28;01mas\u001b[39;00m e:\n\u001b[1;32m     56\u001b[0m   \u001b[38;5;28;01mif\u001b[39;00m name \u001b[38;5;129;01mis\u001b[39;00m \u001b[38;5;129;01mnot\u001b[39;00m \u001b[38;5;28;01mNone\u001b[39;00m:\n",
      "\u001b[0;31mKeyboardInterrupt\u001b[0m: "
     ]
    }
   ],
   "source": [
    "history = model.fit(train, validation_data=test, epochs=32, callbacks=[checkpoint_callback, schedule_callback, example_callback])"
   ]
  },
  {
   "cell_type": "code",
   "execution_count": null,
   "id": "finNqEkLOwhI",
   "metadata": {
    "id": "finNqEkLOwhI"
   },
   "outputs": [],
   "source": [
    "history_dict = history.history\n",
    "plt.figure(figsize=(12, 4))\n",
    "plt.subplot(1, 2, 1)\n",
    "plt.plot(history_dict['loss'], label='Training Loss')\n",
    "plt.plot(history_dict['val_loss'], label='Validation Loss')\n",
    "plt.title('Training and Validation Loss')\n",
    "plt.xlabel('Epochs')\n",
    "plt.ylabel('Loss')\n",
    "plt.legend()\n",
    "plt.show()\n"
   ]
  },
  {
   "cell_type": "code",
   "execution_count": null,
   "id": "89a9af57",
   "metadata": {},
   "outputs": [
    {
     "data": {
      "image/png": "[encoded data removed]",
      "text/plain": [
       "<Figure size 640x480 with 1 Axes>"
      ]
     },
     "metadata": {},
     "output_type": "display_data"
    }
   ],
   "source": [
    "import matplotlib.pyplot as plt\n",
    "\n",
    "# Read the contents of the nohup.out file\n",
    "with open('/home/mahimrawal/loss_values.txt', 'r') as file:\n",
    "    lines = file.readlines()\n",
    "\n",
    "# Extract loss and val_loss values for each epoch\n",
    "epochs = []\n",
    "loss_values = []\n",
    "val_loss_values = []\n",
    "\n",
    "for line in lines:\n",
    "    if 'Epoch' in line:\n",
    "        epoch_info = line.split()\n",
    "        epoch = int(epoch_info[1].split('/')[0])\n",
    "        epochs.append(epoch)\n",
    "        \n",
    "        if 'loss:' in epoch_info:\n",
    "            loss_index = epoch_info.index('loss:')\n",
    "            loss = float(epoch_info[loss_index + 1])\n",
    "        else:\n",
    "            loss = None\n",
    "        # Check if 'val_loss:' is present in the line\n",
    "        if 'val_loss:' in epoch_info:\n",
    "            val_loss_index = epoch_info.index('val_loss:')\n",
    "            val_loss = float(epoch_info[val_loss_index + 1])\n",
    "        else:\n",
    "            val_loss = None\n",
    "\n",
    "        loss_values.append(loss)\n",
    "        val_loss_values.append(val_loss)\n",
    "\n",
    "# Plotting\n",
    "plt.plot(epochs, loss_values, label='Training Loss')\n",
    "plt.plot(epochs, val_loss_values, label='Validation Loss')\n",
    "plt.title('Training and Validation Loss over Epochs')\n",
    "plt.xlabel('Epoch')\n",
    "plt.ylabel('Loss')\n",
    "plt.legend()\n",
    "plt.show()\n"
   ]
  },
  {
   "cell_type": "code",
   "execution_count": null,
   "id": "1d8437d7",
   "metadata": {},
   "outputs": [
    {
     "data": {
      "image/png": "[encoded data removed]",
      "text/plain": [
       "<Figure size 640x480 with 1 Axes>"
      ]
     },
     "metadata": {},
     "output_type": "display_data"
    }
   ],
   "source": [
    "import matplotlib.pyplot as plt\n",
    "\n",
    "# Read the contents of the nohup.out file\n",
    "with open('/home/mahimrawal/loss_values.txt', 'r') as file:\n",
    "    lines = file.readlines()\n",
    "\n",
    "# Extract letter-level accuracy values for each epoch\n",
    "epochs = []\n",
    "accuracy_values = []\n",
    "\n",
    "for line in lines:\n",
    "    if 'Epoch' in line:\n",
    "        epoch_info = line.split()\n",
    "        epoch = int(epoch_info[1].split('/')[0])\n",
    "        epochs.append(epoch)\n",
    "\n",
    "        # Extract letter-level accuracy\n",
    "        accuracy_index = epoch_info.index('Accuracy:')\n",
    "        accuracy = float(epoch_info[accuracy_index + 1])\n",
    "        \n",
    "        accuracy_values.append(accuracy)\n",
    "\n",
    "# Plotting\n",
    "plt.plot(epochs, accuracy_values, label='Letter-level Accuracy')\n",
    "plt.title('Letter-level Accuracy over Epochs')\n",
    "plt.xlabel('Epoch')\n",
    "plt.ylabel('Accuracy')\n",
    "plt.legend()\n",
    "plt.show()\n"
   ]
  },
  {
   "cell_type": "markdown",
   "id": "fa8ee94b-89f7-4733-8a0c-a86f86ff590a",
   "metadata": {
    "id": "fa8ee94b-89f7-4733-8a0c-a86f86ff590a",
    "tags": []
   },
   "source": [
    "# 5. Make a Prediction"
   ]
  },
  {
   "cell_type": "code",
   "execution_count": null,
   "id": "247f664d-3c87-4e96-946e-930dad0e1c2c",
   "metadata": {
    "id": "247f664d-3c87-4e96-946e-930dad0e1c2c",
    "tags": []
   },
   "outputs": [
    {
     "data": {
      "text/plain": [
       "<tensorflow.python.checkpoint.checkpoint.CheckpointLoadStatus at 0x7fa28004ecd0>"
      ]
     },
     "execution_count": 64,
     "metadata": {},
     "output_type": "execute_result"
    }
   ],
   "source": [
    "model.load_weights('/home/mahimrawal/models checkpoint47/checkpoint')"
   ]
  },
  {
   "cell_type": "code",
   "execution_count": null,
   "id": "7f8d689f-b7bb-443c-9b88-e40c1d800828",
   "metadata": {
    "id": "7f8d689f-b7bb-443c-9b88-e40c1d800828",
    "tags": []
   },
   "outputs": [],
   "source": [
    "test_data = test.as_numpy_iterator()"
   ]
  },
  {
   "cell_type": "code",
   "execution_count": null,
   "id": "38546dc2-bee9-4837-864b-8a884df40ad7",
   "metadata": {
    "id": "38546dc2-bee9-4837-864b-8a884df40ad7",
    "tags": []
   },
   "outputs": [],
   "source": [
    "sample = test_data.next()"
   ]
  },
  {
   "cell_type": "code",
   "execution_count": null,
   "id": "a43621f0-229d-4c0d-9554-9c3a3da9c61a",
   "metadata": {
    "id": "a43621f0-229d-4c0d-9554-9c3a3da9c61a",
    "tags": []
   },
   "outputs": [],
   "source": [
    "yhat = model.predict(sample[0])"
   ]
  },
  {
   "cell_type": "code",
   "execution_count": null,
   "id": "ea462999-f87e-4a7e-a057-5be7b6d8f7d5",
   "metadata": {
    "id": "ea462999-f87e-4a7e-a057-5be7b6d8f7d5",
    "tags": []
   },
   "outputs": [],
   "source": [
    "print('~'*100, 'REAL TEXT')\n",
    "[tf.strings.reduce_join([num_to_char(word) for word in sentence]) for sentence in sample[1]]"
   ]
  },
  {
   "cell_type": "code",
   "execution_count": null,
   "id": "82bd4c10-dd6e-411e-834b-2a3b43fd12c5",
   "metadata": {
    "id": "82bd4c10-dd6e-411e-834b-2a3b43fd12c5",
    "tags": []
   },
   "outputs": [],
   "source": [
    "decoded = tf.keras.backend.ctc_decode(yhat, input_length=[75,75], greedy=True)[0][0].numpy()"
   ]
  },
  {
   "cell_type": "code",
   "execution_count": null,
   "id": "5d68ac46-c90b-4eab-a709-f19aee569ff5",
   "metadata": {
    "id": "5d68ac46-c90b-4eab-a709-f19aee569ff5",
    "tags": []
   },
   "outputs": [],
   "source": [
    "print('~'*100, 'PREDICTIONS')\n",
    "[tf.strings.reduce_join([num_to_char(word) for word in sentence]) for sentence in decoded]"
   ]
  },
  {
   "cell_type": "markdown",
   "id": "64622f98-e99b-4fed-a2cc-f0da82eb5431",
   "metadata": {
    "id": "64622f98-e99b-4fed-a2cc-f0da82eb5431"
   },
   "source": [
    "# Test on a Video"
   ]
  },
  {
   "cell_type": "code",
   "execution_count": null,
   "id": "a8b0c4d0-2031-4331-b91d-d87b1ae6f6e2",
   "metadata": {
    "id": "a8b0c4d0-2031-4331-b91d-d87b1ae6f6e2"
   },
   "outputs": [],
   "source": [
    "sample = load_data(tf.convert_to_tensor('/home/mahimrawal/Lip_Reading/data/s1/bras9a.mpg'))"
   ]
  },
  {
   "cell_type": "code",
   "execution_count": null,
   "id": "0cca60e4-47a9-4683-8a75-48f4684f723d",
   "metadata": {
    "id": "0cca60e4-47a9-4683-8a75-48f4684f723d"
   },
   "outputs": [],
   "source": [
    "print('~'*100, 'REAL TEXT')\n",
    "[tf.strings.reduce_join([num_to_char(word) for word in sentence]) for sentence in [sample[1]]]"
   ]
  },
  {
   "cell_type": "code",
   "execution_count": null,
   "id": "8cc5037c-1e32-435c-b0cc-01e1fb3b863c",
   "metadata": {
    "id": "8cc5037c-1e32-435c-b0cc-01e1fb3b863c"
   },
   "outputs": [],
   "source": [
    "yhat = model.predict(tf.expand_dims(sample[0], axis=0))"
   ]
  },
  {
   "cell_type": "code",
   "execution_count": null,
   "id": "22c4f77d-715d-409f-bc5e-3ebe48704e8f",
   "metadata": {
    "id": "22c4f77d-715d-409f-bc5e-3ebe48704e8f"
   },
   "outputs": [],
   "source": [
    "decoded = tf.keras.backend.ctc_decode(yhat, input_length=[75], greedy=True)[0][0].numpy()"
   ]
  },
  {
   "cell_type": "code",
   "execution_count": null,
   "id": "e4d12ecc-b634-499e-a4bc-db9f010835fb",
   "metadata": {
    "id": "e4d12ecc-b634-499e-a4bc-db9f010835fb"
   },
   "outputs": [],
   "source": [
    "print('~'*100, 'PREDICTIONS')\n",
    "[tf.strings.reduce_join([num_to_char(word) for word in sentence]) for sentence in decoded]"
   ]
  }
 ],
 "metadata": {
  "accelerator": "GPU",
  "colab": {
   "gpuType": "T4",
   "provenance": []
  },
  "kernelspec": {
   "display_name": "Python 3 (ipykernel)",
   "language": "python",
   "name": "python3"
  },
  "language_info": {
   "codemirror_mode": {
    "name": "ipython",
    "version": 3
   },
   "file_extension": ".py",
   "mimetype": "text/x-python",
   "name": "python",
   "nbconvert_exporter": "python",
   "pygments_lexer": "ipython3",
   "version": "3.9.18"
  }
 },
 "nbformat": 4,
 "nbformat_minor": 5
}
